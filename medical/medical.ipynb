{
 "cells": [
  {
   "cell_type": "markdown",
   "id": "9b83ecd9",
   "metadata": {},
   "source": [
    "Презентация: https://disk.yandex.ru/d/M6sb1jAscyx-PA"
   ]
  },
  {
   "cell_type": "markdown",
   "id": "b77e713b",
   "metadata": {},
   "source": [
    "# Проект: Аналитика данных медицинского центра <a class=\"tocSkip\">"
   ]
  },
  {
   "cell_type": "markdown",
   "id": "636da8fb",
   "metadata": {},
   "source": [
    "Цель: проанализировать возможные причины изменения цены лечения в клинике в 2022 г. относительно 2021 г.  \n",
    "\n",
    "Задачи:\n",
    "- сравнить количество пациентов и предоставленных клиникой услуг по годам;\n",
    "- выяснить, как изменилась цена на услуги клиники;\n",
    "- определить, какие факторы влияют на цену лечения."
   ]
  },
  {
   "cell_type": "markdown",
   "id": "93d1171c",
   "metadata": {},
   "source": [
    "## Описание данных"
   ]
  },
  {
   "cell_type": "markdown",
   "id": "7211b176",
   "metadata": {},
   "source": [
    "- record_id - уникальный идентификатор строки данных;\n",
    "- service_date - дата оказания медицинской услуги;\n",
    "- service_name - наименование медицинской услуги;\n",
    "- service_number - количество услуг;\n",
    "- service_amount - сумма выплат (стоимость оказанных услуг в рублях);\n",
    "- insured - уникальный идентификатор пациента;\n",
    "- sex_id - пол пациента;\n",
    "- age_for_service_date - возраст пациента.\n"
   ]
  },
  {
   "cell_type": "markdown",
   "id": "2773bb26",
   "metadata": {},
   "source": [
    "## Загрузка данных"
   ]
  },
  {
   "cell_type": "code",
   "execution_count": 1,
   "id": "ec1eb761",
   "metadata": {},
   "outputs": [],
   "source": [
    "# загружаем нужные библиотеки\n",
    "import pandas as pd\n",
    "import numpy as np\n",
    "from datetime import datetime, timedelta\n",
    "from datetime import datetime as dt\n",
    "import plotly.express as px\n",
    "from plotly.subplots import make_subplots\n",
    "import plotly.graph_objects as go\n",
    "import matplotlib.pyplot as plt\n",
    "import seaborn as sns \n",
    "#import scipy.stats as stats\n",
    "from scipy import stats as st\n",
    "from statsmodels. stats.weightstats import ztest as ztest"
   ]
  },
  {
   "cell_type": "code",
   "execution_count": 2,
   "id": "fba96d77",
   "metadata": {},
   "outputs": [],
   "source": [
    "# загружаем данные\n",
    "df = pd.read_excel('data_test_task_2022.xlsx')"
   ]
  },
  {
   "cell_type": "code",
   "execution_count": 3,
   "id": "01cbfdf3",
   "metadata": {
    "scrolled": true
   },
   "outputs": [
    {
     "data": {
      "text/html": [
       "<div>\n",
       "<style scoped>\n",
       "    .dataframe tbody tr th:only-of-type {\n",
       "        vertical-align: middle;\n",
       "    }\n",
       "\n",
       "    .dataframe tbody tr th {\n",
       "        vertical-align: top;\n",
       "    }\n",
       "\n",
       "    .dataframe thead th {\n",
       "        text-align: right;\n",
       "    }\n",
       "</style>\n",
       "<table border=\"1\" class=\"dataframe\">\n",
       "  <thead>\n",
       "    <tr style=\"text-align: right;\">\n",
       "      <th></th>\n",
       "      <th>record_id</th>\n",
       "      <th>service_date</th>\n",
       "      <th>service_name</th>\n",
       "      <th>service_amount</th>\n",
       "      <th>service_number</th>\n",
       "      <th>insured</th>\n",
       "      <th>sex_id</th>\n",
       "      <th>age_for_service_date</th>\n",
       "    </tr>\n",
       "  </thead>\n",
       "  <tbody>\n",
       "    <tr>\n",
       "      <th>0</th>\n",
       "      <td>30268157003</td>\n",
       "      <td>2021-01-24</td>\n",
       "      <td>Прием первичный</td>\n",
       "      <td>1470</td>\n",
       "      <td>1</td>\n",
       "      <td>490777</td>\n",
       "      <td>2.0</td>\n",
       "      <td>26</td>\n",
       "    </tr>\n",
       "    <tr>\n",
       "      <th>1</th>\n",
       "      <td>30268157103</td>\n",
       "      <td>2021-01-24</td>\n",
       "      <td>Взятие материала на посев, цитологическое иссл...</td>\n",
       "      <td>284</td>\n",
       "      <td>1</td>\n",
       "      <td>490777</td>\n",
       "      <td>2.0</td>\n",
       "      <td>26</td>\n",
       "    </tr>\n",
       "    <tr>\n",
       "      <th>2</th>\n",
       "      <td>30268157203</td>\n",
       "      <td>2021-01-24</td>\n",
       "      <td>Посев отдел, дыхательных путей - слизистая зев...</td>\n",
       "      <td>1134</td>\n",
       "      <td>1</td>\n",
       "      <td>490777</td>\n",
       "      <td>2.0</td>\n",
       "      <td>26</td>\n",
       "    </tr>\n",
       "    <tr>\n",
       "      <th>3</th>\n",
       "      <td>30268157303</td>\n",
       "      <td>2021-01-24</td>\n",
       "      <td>Общий анализ крови (лейкоцитарная форм,, СОЭ)</td>\n",
       "      <td>693</td>\n",
       "      <td>1</td>\n",
       "      <td>490777</td>\n",
       "      <td>2.0</td>\n",
       "      <td>26</td>\n",
       "    </tr>\n",
       "    <tr>\n",
       "      <th>4</th>\n",
       "      <td>30268157403</td>\n",
       "      <td>2021-01-24</td>\n",
       "      <td>Ревматоидный фактор</td>\n",
       "      <td>420</td>\n",
       "      <td>1</td>\n",
       "      <td>490777</td>\n",
       "      <td>2.0</td>\n",
       "      <td>26</td>\n",
       "    </tr>\n",
       "  </tbody>\n",
       "</table>\n",
       "</div>"
      ],
      "text/plain": [
       "     record_id service_date  \\\n",
       "0  30268157003   2021-01-24   \n",
       "1  30268157103   2021-01-24   \n",
       "2  30268157203   2021-01-24   \n",
       "3  30268157303   2021-01-24   \n",
       "4  30268157403   2021-01-24   \n",
       "\n",
       "                                        service_name  service_amount  \\\n",
       "0                                    Прием первичный            1470   \n",
       "1  Взятие материала на посев, цитологическое иссл...             284   \n",
       "2  Посев отдел, дыхательных путей - слизистая зев...            1134   \n",
       "3      Общий анализ крови (лейкоцитарная форм,, СОЭ)             693   \n",
       "4                                Ревматоидный фактор             420   \n",
       "\n",
       "   service_number  insured  sex_id  age_for_service_date  \n",
       "0               1   490777     2.0                    26  \n",
       "1               1   490777     2.0                    26  \n",
       "2               1   490777     2.0                    26  \n",
       "3               1   490777     2.0                    26  \n",
       "4               1   490777     2.0                    26  "
      ]
     },
     "execution_count": 3,
     "metadata": {},
     "output_type": "execute_result"
    }
   ],
   "source": [
    "df.head()"
   ]
  },
  {
   "cell_type": "code",
   "execution_count": 4,
   "id": "b197d1ce",
   "metadata": {},
   "outputs": [
    {
     "name": "stdout",
     "output_type": "stream",
     "text": [
      "<class 'pandas.core.frame.DataFrame'>\n",
      "RangeIndex: 85369 entries, 0 to 85368\n",
      "Data columns (total 8 columns):\n",
      " #   Column                Non-Null Count  Dtype  \n",
      "---  ------                --------------  -----  \n",
      " 0   record_id             85369 non-null  int64  \n",
      " 1   service_date          85369 non-null  object \n",
      " 2   service_name          85369 non-null  object \n",
      " 3   service_amount        85369 non-null  int64  \n",
      " 4   service_number        85369 non-null  int64  \n",
      " 5   insured               85369 non-null  int64  \n",
      " 6   sex_id                85348 non-null  float64\n",
      " 7   age_for_service_date  85369 non-null  int64  \n",
      "dtypes: float64(1), int64(5), object(2)\n",
      "memory usage: 5.2+ MB\n"
     ]
    }
   ],
   "source": [
    "df.info()"
   ]
  },
  {
   "cell_type": "markdown",
   "id": "dab92246",
   "metadata": {},
   "source": [
    "## Предобработка данных"
   ]
  },
  {
   "cell_type": "code",
   "execution_count": 5,
   "id": "0678a1b4",
   "metadata": {},
   "outputs": [
    {
     "data": {
      "text/html": [
       "<div>\n",
       "<style scoped>\n",
       "    .dataframe tbody tr th:only-of-type {\n",
       "        vertical-align: middle;\n",
       "    }\n",
       "\n",
       "    .dataframe tbody tr th {\n",
       "        vertical-align: top;\n",
       "    }\n",
       "\n",
       "    .dataframe thead th {\n",
       "        text-align: right;\n",
       "    }\n",
       "</style>\n",
       "<table border=\"1\" class=\"dataframe\">\n",
       "  <thead>\n",
       "    <tr style=\"text-align: right;\">\n",
       "      <th></th>\n",
       "      <th>record_id</th>\n",
       "      <th>date</th>\n",
       "      <th>service_name</th>\n",
       "      <th>total_bill</th>\n",
       "      <th>total_services</th>\n",
       "      <th>patient_id</th>\n",
       "      <th>sex</th>\n",
       "      <th>age</th>\n",
       "    </tr>\n",
       "  </thead>\n",
       "  <tbody>\n",
       "    <tr>\n",
       "      <th>0</th>\n",
       "      <td>30268157003</td>\n",
       "      <td>2021-01-24</td>\n",
       "      <td>Прием первичный</td>\n",
       "      <td>1470</td>\n",
       "      <td>1</td>\n",
       "      <td>490777</td>\n",
       "      <td>2.0</td>\n",
       "      <td>26</td>\n",
       "    </tr>\n",
       "    <tr>\n",
       "      <th>1</th>\n",
       "      <td>30268157103</td>\n",
       "      <td>2021-01-24</td>\n",
       "      <td>Взятие материала на посев, цитологическое иссл...</td>\n",
       "      <td>284</td>\n",
       "      <td>1</td>\n",
       "      <td>490777</td>\n",
       "      <td>2.0</td>\n",
       "      <td>26</td>\n",
       "    </tr>\n",
       "    <tr>\n",
       "      <th>2</th>\n",
       "      <td>30268157203</td>\n",
       "      <td>2021-01-24</td>\n",
       "      <td>Посев отдел, дыхательных путей - слизистая зев...</td>\n",
       "      <td>1134</td>\n",
       "      <td>1</td>\n",
       "      <td>490777</td>\n",
       "      <td>2.0</td>\n",
       "      <td>26</td>\n",
       "    </tr>\n",
       "    <tr>\n",
       "      <th>3</th>\n",
       "      <td>30268157303</td>\n",
       "      <td>2021-01-24</td>\n",
       "      <td>Общий анализ крови (лейкоцитарная форм,, СОЭ)</td>\n",
       "      <td>693</td>\n",
       "      <td>1</td>\n",
       "      <td>490777</td>\n",
       "      <td>2.0</td>\n",
       "      <td>26</td>\n",
       "    </tr>\n",
       "    <tr>\n",
       "      <th>4</th>\n",
       "      <td>30268157403</td>\n",
       "      <td>2021-01-24</td>\n",
       "      <td>Ревматоидный фактор</td>\n",
       "      <td>420</td>\n",
       "      <td>1</td>\n",
       "      <td>490777</td>\n",
       "      <td>2.0</td>\n",
       "      <td>26</td>\n",
       "    </tr>\n",
       "  </tbody>\n",
       "</table>\n",
       "</div>"
      ],
      "text/plain": [
       "     record_id        date                                       service_name  \\\n",
       "0  30268157003  2021-01-24                                    Прием первичный   \n",
       "1  30268157103  2021-01-24  Взятие материала на посев, цитологическое иссл...   \n",
       "2  30268157203  2021-01-24  Посев отдел, дыхательных путей - слизистая зев...   \n",
       "3  30268157303  2021-01-24      Общий анализ крови (лейкоцитарная форм,, СОЭ)   \n",
       "4  30268157403  2021-01-24                                Ревматоидный фактор   \n",
       "\n",
       "   total_bill  total_services  patient_id  sex  age  \n",
       "0        1470               1      490777  2.0   26  \n",
       "1         284               1      490777  2.0   26  \n",
       "2        1134               1      490777  2.0   26  \n",
       "3         693               1      490777  2.0   26  \n",
       "4         420               1      490777  2.0   26  "
      ]
     },
     "execution_count": 5,
     "metadata": {},
     "output_type": "execute_result"
    }
   ],
   "source": [
    "# переименовываем столбцы\n",
    "df.columns = ['record_id', 'date', 'service_name', 'total_bill', 'total_services', 'patient_id', 'sex', 'age']\n",
    "df.head()"
   ]
  },
  {
   "cell_type": "code",
   "execution_count": 6,
   "id": "1bfd434d",
   "metadata": {},
   "outputs": [
    {
     "data": {
      "text/plain": [
       "record_id          0\n",
       "date               0\n",
       "service_name       0\n",
       "total_bill         0\n",
       "total_services     0\n",
       "patient_id         0\n",
       "sex               21\n",
       "age                0\n",
       "dtype: int64"
      ]
     },
     "execution_count": 6,
     "metadata": {},
     "output_type": "execute_result"
    }
   ],
   "source": [
    "# ищем пропуски\n",
    "df.isnull().sum()"
   ]
  },
  {
   "cell_type": "markdown",
   "id": "5a646017",
   "metadata": {},
   "source": [
    "У нас есть 21 пропуск в графе \"пол\", можем их удалить. "
   ]
  },
  {
   "cell_type": "code",
   "execution_count": 7,
   "id": "e96a3124",
   "metadata": {},
   "outputs": [
    {
     "data": {
      "text/plain": [
       "record_id         0\n",
       "date              0\n",
       "service_name      0\n",
       "total_bill        0\n",
       "total_services    0\n",
       "patient_id        0\n",
       "sex               0\n",
       "age               0\n",
       "dtype: int64"
      ]
     },
     "execution_count": 7,
     "metadata": {},
     "output_type": "execute_result"
    }
   ],
   "source": [
    "# удаляем пропуски\n",
    "df= df.dropna()\n",
    "df.isnull().sum()"
   ]
  },
  {
   "cell_type": "code",
   "execution_count": 8,
   "id": "a2a6054f",
   "metadata": {},
   "outputs": [
    {
     "data": {
      "text/plain": [
       "0"
      ]
     },
     "execution_count": 8,
     "metadata": {},
     "output_type": "execute_result"
    }
   ],
   "source": [
    "# ищем полные дубликаты\n",
    "df.duplicated().sum()"
   ]
  },
  {
   "cell_type": "markdown",
   "id": "031b745d",
   "metadata": {},
   "source": [
    "Дубликатов нет."
   ]
  },
  {
   "cell_type": "code",
   "execution_count": 9,
   "id": "ec86caea",
   "metadata": {},
   "outputs": [],
   "source": [
    "# приводим данные к нужному типу\n",
    "df['date']=pd.to_datetime(df['date'])"
   ]
  },
  {
   "cell_type": "code",
   "execution_count": 10,
   "id": "3203f030",
   "metadata": {},
   "outputs": [
    {
     "name": "stdout",
     "output_type": "stream",
     "text": [
      "<class 'pandas.core.frame.DataFrame'>\n",
      "Int64Index: 85348 entries, 0 to 85368\n",
      "Data columns (total 8 columns):\n",
      " #   Column          Non-Null Count  Dtype         \n",
      "---  ------          --------------  -----         \n",
      " 0   record_id       85348 non-null  int64         \n",
      " 1   date            85348 non-null  datetime64[ns]\n",
      " 2   service_name    85348 non-null  object        \n",
      " 3   total_bill      85348 non-null  int64         \n",
      " 4   total_services  85348 non-null  int64         \n",
      " 5   patient_id      85348 non-null  int64         \n",
      " 6   sex             85348 non-null  float64       \n",
      " 7   age             85348 non-null  int64         \n",
      "dtypes: datetime64[ns](1), float64(1), int64(5), object(1)\n",
      "memory usage: 5.9+ MB\n"
     ]
    }
   ],
   "source": [
    "df.info()"
   ]
  },
  {
   "cell_type": "code",
   "execution_count": 11,
   "id": "b682a6d1",
   "metadata": {},
   "outputs": [
    {
     "data": {
      "text/plain": [
       "array([2., 1.])"
      ]
     },
     "execution_count": 11,
     "metadata": {},
     "output_type": "execute_result"
    }
   ],
   "source": [
    "# смотрим графу пол\n",
    "df['sex'].unique()"
   ]
  },
  {
   "cell_type": "code",
   "execution_count": 12,
   "id": "dbb81920",
   "metadata": {},
   "outputs": [],
   "source": [
    "# заменяем значения пола\n",
    "df['sex'].replace({2:'Female',1:'Male'},inplace=True)"
   ]
  },
  {
   "cell_type": "code",
   "execution_count": 13,
   "id": "28ae759c",
   "metadata": {},
   "outputs": [],
   "source": [
    "# приводим название услуг к нижнему регистру\n",
    "df['service_name'] = list(map(str.lower, df['service_name']))"
   ]
  },
  {
   "cell_type": "code",
   "execution_count": 14,
   "id": "ac37be8a",
   "metadata": {},
   "outputs": [],
   "source": [
    "#создаем колонку с ценой услуги\n",
    "df['price'] = df['total_bill']/df['total_services']"
   ]
  },
  {
   "cell_type": "markdown",
   "id": "ec5d6423",
   "metadata": {},
   "source": [
    "Предобработка данных завершена, приступаем к анализу."
   ]
  },
  {
   "cell_type": "markdown",
   "id": "b283259e",
   "metadata": {},
   "source": [
    "## Исследовательский анализ данных"
   ]
  },
  {
   "cell_type": "markdown",
   "id": "50b67030",
   "metadata": {},
   "source": [
    "### Период исследования"
   ]
  },
  {
   "cell_type": "code",
   "execution_count": 15,
   "id": "ac0e1b70",
   "metadata": {},
   "outputs": [
    {
     "name": "stdout",
     "output_type": "stream",
     "text": [
      "2021-01-03 00:00:00\n",
      "2022-08-31 00:00:00\n"
     ]
    }
   ],
   "source": [
    "print(df['date'].min())\n",
    "print(df['date'].max())"
   ]
  },
  {
   "cell_type": "markdown",
   "id": "a42c31e2",
   "metadata": {},
   "source": [
    "У нас есть данные с 3 января 2021 г. по 31 августа 2022 г. Данные за 2022 г. неполные, это может исказить показатели выручки."
   ]
  },
  {
   "cell_type": "code",
   "execution_count": 16,
   "id": "ba06ff4a",
   "metadata": {},
   "outputs": [
    {
     "data": {
      "text/html": [
       "<div>\n",
       "<style scoped>\n",
       "    .dataframe tbody tr th:only-of-type {\n",
       "        vertical-align: middle;\n",
       "    }\n",
       "\n",
       "    .dataframe tbody tr th {\n",
       "        vertical-align: top;\n",
       "    }\n",
       "\n",
       "    .dataframe thead th {\n",
       "        text-align: right;\n",
       "    }\n",
       "</style>\n",
       "<table border=\"1\" class=\"dataframe\">\n",
       "  <thead>\n",
       "    <tr style=\"text-align: right;\">\n",
       "      <th></th>\n",
       "      <th>record_id</th>\n",
       "      <th>date</th>\n",
       "      <th>service_name</th>\n",
       "      <th>total_bill</th>\n",
       "      <th>total_services</th>\n",
       "      <th>patient_id</th>\n",
       "      <th>sex</th>\n",
       "      <th>age</th>\n",
       "      <th>price</th>\n",
       "      <th>year</th>\n",
       "    </tr>\n",
       "  </thead>\n",
       "  <tbody>\n",
       "    <tr>\n",
       "      <th>0</th>\n",
       "      <td>30268157003</td>\n",
       "      <td>2021-01-24</td>\n",
       "      <td>прием первичный</td>\n",
       "      <td>1470</td>\n",
       "      <td>1</td>\n",
       "      <td>490777</td>\n",
       "      <td>Female</td>\n",
       "      <td>26</td>\n",
       "      <td>1470.0</td>\n",
       "      <td>2021</td>\n",
       "    </tr>\n",
       "    <tr>\n",
       "      <th>1</th>\n",
       "      <td>30268157103</td>\n",
       "      <td>2021-01-24</td>\n",
       "      <td>взятие материала на посев, цитологическое иссл...</td>\n",
       "      <td>284</td>\n",
       "      <td>1</td>\n",
       "      <td>490777</td>\n",
       "      <td>Female</td>\n",
       "      <td>26</td>\n",
       "      <td>284.0</td>\n",
       "      <td>2021</td>\n",
       "    </tr>\n",
       "    <tr>\n",
       "      <th>2</th>\n",
       "      <td>30268157203</td>\n",
       "      <td>2021-01-24</td>\n",
       "      <td>посев отдел, дыхательных путей - слизистая зев...</td>\n",
       "      <td>1134</td>\n",
       "      <td>1</td>\n",
       "      <td>490777</td>\n",
       "      <td>Female</td>\n",
       "      <td>26</td>\n",
       "      <td>1134.0</td>\n",
       "      <td>2021</td>\n",
       "    </tr>\n",
       "    <tr>\n",
       "      <th>3</th>\n",
       "      <td>30268157303</td>\n",
       "      <td>2021-01-24</td>\n",
       "      <td>общий анализ крови (лейкоцитарная форм,, соэ)</td>\n",
       "      <td>693</td>\n",
       "      <td>1</td>\n",
       "      <td>490777</td>\n",
       "      <td>Female</td>\n",
       "      <td>26</td>\n",
       "      <td>693.0</td>\n",
       "      <td>2021</td>\n",
       "    </tr>\n",
       "    <tr>\n",
       "      <th>4</th>\n",
       "      <td>30268157403</td>\n",
       "      <td>2021-01-24</td>\n",
       "      <td>ревматоидный фактор</td>\n",
       "      <td>420</td>\n",
       "      <td>1</td>\n",
       "      <td>490777</td>\n",
       "      <td>Female</td>\n",
       "      <td>26</td>\n",
       "      <td>420.0</td>\n",
       "      <td>2021</td>\n",
       "    </tr>\n",
       "  </tbody>\n",
       "</table>\n",
       "</div>"
      ],
      "text/plain": [
       "     record_id       date                                       service_name  \\\n",
       "0  30268157003 2021-01-24                                    прием первичный   \n",
       "1  30268157103 2021-01-24  взятие материала на посев, цитологическое иссл...   \n",
       "2  30268157203 2021-01-24  посев отдел, дыхательных путей - слизистая зев...   \n",
       "3  30268157303 2021-01-24      общий анализ крови (лейкоцитарная форм,, соэ)   \n",
       "4  30268157403 2021-01-24                                ревматоидный фактор   \n",
       "\n",
       "   total_bill  total_services  patient_id     sex  age   price  year  \n",
       "0        1470               1      490777  Female   26  1470.0  2021  \n",
       "1         284               1      490777  Female   26   284.0  2021  \n",
       "2        1134               1      490777  Female   26  1134.0  2021  \n",
       "3         693               1      490777  Female   26   693.0  2021  \n",
       "4         420               1      490777  Female   26   420.0  2021  "
      ]
     },
     "execution_count": 16,
     "metadata": {},
     "output_type": "execute_result"
    }
   ],
   "source": [
    "# создадим столбец year с годом оказания услуги\n",
    "df['year']=df['date'].dt.year\n",
    "df.head()"
   ]
  },
  {
   "cell_type": "markdown",
   "id": "d10d8401",
   "metadata": {},
   "source": [
    "### Пациенты"
   ]
  },
  {
   "cell_type": "markdown",
   "id": "f442987b",
   "metadata": {},
   "source": [
    "#### Количество пациентов по годам"
   ]
  },
  {
   "cell_type": "code",
   "execution_count": 17,
   "id": "79e28697",
   "metadata": {},
   "outputs": [
    {
     "data": {
      "text/plain": [
       "4487"
      ]
     },
     "execution_count": 17,
     "metadata": {},
     "output_type": "execute_result"
    }
   ],
   "source": [
    "# сколько всего уникальных пациентов в датасете\n",
    "df['patient_id'].nunique()"
   ]
  },
  {
   "cell_type": "code",
   "execution_count": 18,
   "id": "e3fe9ca9",
   "metadata": {
    "scrolled": true
   },
   "outputs": [
    {
     "data": {
      "text/html": [
       "<div>\n",
       "<style scoped>\n",
       "    .dataframe tbody tr th:only-of-type {\n",
       "        vertical-align: middle;\n",
       "    }\n",
       "\n",
       "    .dataframe tbody tr th {\n",
       "        vertical-align: top;\n",
       "    }\n",
       "\n",
       "    .dataframe thead th {\n",
       "        text-align: right;\n",
       "    }\n",
       "</style>\n",
       "<table border=\"1\" class=\"dataframe\">\n",
       "  <thead>\n",
       "    <tr style=\"text-align: right;\">\n",
       "      <th></th>\n",
       "      <th>patient_id</th>\n",
       "    </tr>\n",
       "    <tr>\n",
       "      <th>year</th>\n",
       "      <th></th>\n",
       "    </tr>\n",
       "  </thead>\n",
       "  <tbody>\n",
       "    <tr>\n",
       "      <th>2021</th>\n",
       "      <td>2514</td>\n",
       "    </tr>\n",
       "    <tr>\n",
       "      <th>2022</th>\n",
       "      <td>2757</td>\n",
       "    </tr>\n",
       "  </tbody>\n",
       "</table>\n",
       "</div>"
      ],
      "text/plain": [
       "      patient_id\n",
       "year            \n",
       "2021        2514\n",
       "2022        2757"
      ]
     },
     "execution_count": 18,
     "metadata": {},
     "output_type": "execute_result"
    }
   ],
   "source": [
    "# количество пациентов по годам\n",
    "patients = df.groupby('year').agg({'patient_id':'nunique'})\n",
    "patients"
   ]
  },
  {
   "cell_type": "markdown",
   "id": "57b5b92e",
   "metadata": {},
   "source": [
    "Всего в датасете есть 4487 уникальных пациентов. В 2021 г. их было 2514, в 2022 г. количество пациентов увеличилось до 2757."
   ]
  },
  {
   "cell_type": "code",
   "execution_count": 54,
   "id": "00d7c572",
   "metadata": {},
   "outputs": [
    {
     "data": {
      "image/png": "[encoded data removed]"
     },
     "metadata": {},
     "output_type": "display_data"
    }
   ],
   "source": [
    "# количество пациентов в 2021 и 2022 гг. по месяцам \n",
    "df['year_month']=df['date'].dt.to_period(\"M\").astype(str) #создаем колонку с месяцем и годом\n",
    "patients_amt = df.groupby('year_month').agg({'patient_id':'nunique'}).reset_index()\n",
    "patients_amt.columns=['year_month', 'unique_patients']\n",
    "\n",
    "# визуализируем\n",
    "fig = px.line(patients_amt, x='year_month', y='unique_patients', markers=True,\n",
    "              title='Количество уникальных пациентов по месяцам')\n",
    "fig.update_layout(xaxis_title='Месяц', yaxis_title='Количество пациентов')\n",
    "fig.update_layout(legend=dict(title='Год')) #меняем заголовок легенды\n",
    "fig.update_layout(title_xref=\"paper\", title_x=0.5) #положение заголовка\n",
    "#fig.update_xaxes(dtick= 1) # регулируем шаг отметок на оси х\n",
    "fig.update_xaxes(dtick=\"M1\")\n",
    "fig.add_vline(x='2022-01', line_dash=\"dot\") #добавляем линию, разделяющую два года\n",
    "fig.show(renderer='png')"
   ]
  },
  {
   "cell_type": "markdown",
   "id": "5356dac5",
   "metadata": {},
   "source": [
    "Количество уникальных пациентов клиники в 2021 г. увеличилось с 286 человек в январе до 560 человек в декабре. Мы наблюдаем резкий рост с февраля по март (с 309 чел. до 445 чел.). Больше всего пациентов в 2021 г. пришлось на октябрь: 591 человек. В 2022 г. количество пациентов росло с января (555 чел.) по май (802 чел.), а далее начало стремительно уменьшаться и составило всего 359 человек в августе, это самый низкий показатель с марта 2021. "
   ]
  },
  {
   "cell_type": "markdown",
   "id": "7c797048",
   "metadata": {},
   "source": [
    "#### Пол и возраст пациентов"
   ]
  },
  {
   "cell_type": "code",
   "execution_count": 55,
   "id": "bb1f9da7",
   "metadata": {},
   "outputs": [
    {
     "data": {
      "image/png": "[encoded data removed]"
     },
     "metadata": {},
     "output_type": "display_data"
    }
   ],
   "source": [
    "# соотношение пациентов по полу \n",
    "patients_2021 = df.query('year==2021')\n",
    "patients_2022 = df.query('year==2022')\n",
    "patients_gender_2021 = patients_2021.groupby(['sex']).agg({'patient_id':'nunique'}).reset_index()\n",
    "patients_gender_2022 = patients_2022.groupby(['sex']).agg({'patient_id':'nunique'}).reset_index()\n",
    "# визуализируем\n",
    "fig = make_subplots(rows=1, cols=2, specs=[[{'type':'domain'}, {'type':'domain'}]])\n",
    "labels=['Женщины','Мужчины']\n",
    "fig.add_trace(go.Pie(values=patients_gender_2021['patient_id'], labels=labels,\n",
    "             title='Соотношение пациентов по полу в 2021 г.'), 1, 1)\n",
    "fig.add_trace(go.Pie(values=patients_gender_2022['patient_id'], labels=labels,\n",
    "             title='Соотношение пациентов по полу в 2022 г.'), 1,2)\n",
    "fig.update_layout(title_xref=\"paper\", title_x=1) #положение заголовка\n",
    "fig.update_traces(textposition='inside', textinfo='percent+label')\n",
    "fig.update(layout_showlegend=False)\n",
    "fig.show(renderer='png')"
   ]
  },
  {
   "cell_type": "markdown",
   "id": "aa6302e9",
   "metadata": {},
   "source": [
    "Соотношение пациентов по полу практически не изменилось в новом году: больше половины клиентов - женщины  (56,8% в 2021 г. и 57,8% в 2022 г.)."
   ]
  },
  {
   "cell_type": "code",
   "execution_count": 56,
   "id": "e3b80b29",
   "metadata": {},
   "outputs": [
    {
     "data": {
      "image/png": "[encoded data removed]"
     },
     "metadata": {},
     "output_type": "display_data"
    }
   ],
   "source": [
    "# возраст пациентов\n",
    "fig = px.box(df, x='year', y='age')\n",
    "fig.update_layout(title='Размах возраста пациентов по годам') #меняем заголовок \n",
    "fig.update_layout(xaxis_title='', yaxis_title='Возраст')\n",
    "fig.update_layout(title_xref=\"paper\", title_x=0.5) #положение заголовка\n",
    "fig.show(renderer='png')"
   ]
  },
  {
   "cell_type": "markdown",
   "id": "4496d591",
   "metadata": {},
   "source": [
    "Возраст пациентов также остался неизменным: основную массу клиентов составляют пациенты от 6 до 62 лет, медианный возраст - 34 года."
   ]
  },
  {
   "cell_type": "markdown",
   "id": "5a4fa8cb",
   "metadata": {},
   "source": [
    "Вывод: в 2021 г. в клинику обратилось 2514 человек, в 2022 г. количество клиентов увеличилось до 2757 (притом что информация за 2022 г. есть только до августа включительно).  Число пациентов плавно возрастало с января 2021 г. (286 чеовек) до мая 2022 г. (809 человек).  Начиная с мая 2022 г. количество пациентов начало уменьшаться, особенно выделяется резкий спад с июля 2022 г. (с 641 человека в июле до 359 в августе).  \n",
    "Возрастно-половой состав пациентов по годам не изменился. Более половины пациентов клиники - женщины (56,8% в 2021г. и 57,8% в 2022 г.). Медианный возраст пациентов - 34 года, большая часть находятся в возрасте от 6 до 62 лет."
   ]
  },
  {
   "cell_type": "markdown",
   "id": "4d34dfad",
   "metadata": {},
   "source": [
    "### Услуги"
   ]
  },
  {
   "cell_type": "code",
   "execution_count": 22,
   "id": "67735858",
   "metadata": {},
   "outputs": [
    {
     "name": "stdout",
     "output_type": "stream",
     "text": [
      "Количество услуг: 875\n"
     ]
    }
   ],
   "source": [
    "# всего уникальных услуг\n",
    "print('Количество услуг:',df['service_name'].nunique())"
   ]
  },
  {
   "cell_type": "code",
   "execution_count": 23,
   "id": "a5d5f11d",
   "metadata": {},
   "outputs": [
    {
     "data": {
      "text/html": [
       "<div>\n",
       "<style scoped>\n",
       "    .dataframe tbody tr th:only-of-type {\n",
       "        vertical-align: middle;\n",
       "    }\n",
       "\n",
       "    .dataframe tbody tr th {\n",
       "        vertical-align: top;\n",
       "    }\n",
       "\n",
       "    .dataframe thead th {\n",
       "        text-align: right;\n",
       "    }\n",
       "</style>\n",
       "<table border=\"1\" class=\"dataframe\">\n",
       "  <thead>\n",
       "    <tr style=\"text-align: right;\">\n",
       "      <th></th>\n",
       "      <th>service_name</th>\n",
       "    </tr>\n",
       "    <tr>\n",
       "      <th>year</th>\n",
       "      <th></th>\n",
       "    </tr>\n",
       "  </thead>\n",
       "  <tbody>\n",
       "    <tr>\n",
       "      <th>2021</th>\n",
       "      <td>44371</td>\n",
       "    </tr>\n",
       "    <tr>\n",
       "      <th>2022</th>\n",
       "      <td>40977</td>\n",
       "    </tr>\n",
       "  </tbody>\n",
       "</table>\n",
       "</div>"
      ],
      "text/plain": [
       "      service_name\n",
       "year              \n",
       "2021         44371\n",
       "2022         40977"
      ]
     },
     "execution_count": 23,
     "metadata": {},
     "output_type": "execute_result"
    }
   ],
   "source": [
    "# количество услуг по месяцам\n",
    "df.groupby('year').agg({'service_name':'count'})"
   ]
  },
  {
   "cell_type": "markdown",
   "id": "1973c820",
   "metadata": {},
   "source": [
    "Всего в датасете 875 уникальных услуг. В 2021 г. пациентам было оказано 44371 услуг, а в 2022 г. - 40977 услуг (но данные за этот год неполные). Посмотрим, как меняется количество оказанных услуг по месяцам."
   ]
  },
  {
   "cell_type": "code",
   "execution_count": 57,
   "id": "c12810c1",
   "metadata": {
    "scrolled": true
   },
   "outputs": [
    {
     "data": {
      "image/png": "[encoded data removed]"
     },
     "metadata": {},
     "output_type": "display_data"
    }
   ],
   "source": [
    "# количество оказанных услуг в 2021 и 2022 гг. по месяцам \n",
    "services_amt = df.groupby('year_month').agg({'patient_id':'count'}).reset_index()\n",
    "services_amt.columns=['year_month', 'services_amount']\n",
    "\n",
    "# визуализируем\n",
    "fig = px.line(services_amt, x='year_month', y='services_amount', markers=True,\n",
    "              title='Количество оказанных услуг по месяцам')\n",
    "fig.update_layout(xaxis_title='Месяц', yaxis_title='Количество')\n",
    "fig.update_layout(legend=dict(title='Год')) #меняем заголовок легенды\n",
    "fig.update_layout(title_xref=\"paper\", title_x=0.5) #положение заголовка\n",
    "#fig.update_xaxes(dtick= 1) # регулируем шаг отметок на оси х\n",
    "fig.add_vline(x='2022-01', line_dash=\"dot\") #добавляем линию, разделяющую два года\n",
    "fig.update_xaxes(dtick=\"M1\")\n",
    "fig.show(renderer='png')"
   ]
  },
  {
   "cell_type": "markdown",
   "id": "25386ec6",
   "metadata": {},
   "source": [
    "График количества услуг ожидаемо практически повторяет график количества пациентов. Посмотрим, как различается количество услуг по годам в аналогичном периоде (сравнение по месяцам)."
   ]
  },
  {
   "cell_type": "code",
   "execution_count": 25,
   "id": "7f234960",
   "metadata": {},
   "outputs": [],
   "source": [
    "# создаем колонку month с месяцем \n",
    "df['month']=df['date'].dt.month"
   ]
  },
  {
   "cell_type": "code",
   "execution_count": 58,
   "id": "e04b07db",
   "metadata": {},
   "outputs": [
    {
     "data": {
      "image/png": "[encoded data removed]"
     },
     "metadata": {},
     "output_type": "display_data"
    }
   ],
   "source": [
    "# количество оказанных услуг в 2021 и 2022 гг. по месяцам \n",
    "services = df.groupby(['year','month']).agg({'patient_id':'count'}).reset_index()\n",
    "services.columns=['year', 'month', 'services_amount']\n",
    "\n",
    "# визуализируем\n",
    "fig = px.histogram(services, x='month', y='services_amount', color='year',\n",
    "              barmode='group', \n",
    "              #histnorm='percent', #отображаем процентное соотношение, а не абсолютные значения     \n",
    "              title='Количество оказанных услуг по месяцам')\n",
    "fig.update_layout(xaxis_title='Месяц', yaxis_title='Количество')\n",
    "fig.update_layout(legend=dict(title='Год')) #меняем заголовок легенды\n",
    "fig.update_layout(title_xref=\"paper\", title_x=0.5) #положение заголовка\n",
    "fig.update_xaxes(dtick= 1) # регулируем шаг отметок на оси х\n",
    "fig.update_xaxes(type='category') # регулируем отметки на оси х\n",
    "fig.show(renderer='png')"
   ]
  },
  {
   "cell_type": "markdown",
   "id": "b4dec2de",
   "metadata": {},
   "source": [
    "За исключением августа, в каждом месяце клиника оказывала больше услуг в 2022 г., чем в 2021. Больше всего услуг было оказано в апреле 2022 г.: всего 6692 шт. (для сравнения - в 2021 г. самым \"занятым\" месяцем был октябрь с 5065 услугами)."
   ]
  },
  {
   "cell_type": "markdown",
   "id": "90947ec2",
   "metadata": {},
   "source": [
    "#### Самые популярные услуги"
   ]
  },
  {
   "cell_type": "code",
   "execution_count": 27,
   "id": "7e50fe90",
   "metadata": {},
   "outputs": [
    {
     "data": {
      "text/plain": [
       "прием первичный                                  6053\n",
       "прием повторный                                  4474\n",
       "взятие крови из периферической вены              4214\n",
       "общий анализ крови (лейкоцитарная форм,, соэ)    3189\n",
       "магнитотерапия (1 сеанс)                         2838\n",
       "взятие мазка                                     1567\n",
       "общий анализ мочи                                1549\n",
       "лазеротерапия (1 сеанс)                          1313\n",
       "интерференционные токи (1 сеанс) (4 поля)        1195\n",
       "гинекологический мазок                           1194\n",
       "Name: service_name, dtype: int64"
      ]
     },
     "execution_count": 27,
     "metadata": {},
     "output_type": "execute_result"
    }
   ],
   "source": [
    "# посмотрим на топ-10 услуг\n",
    "df['service_name'].value_counts().head(10)"
   ]
  },
  {
   "cell_type": "markdown",
   "id": "1e878f16",
   "metadata": {},
   "source": [
    "Больше всего в клинику обращаются за приемом к врачу, взятием и анализом крови, мазка и мочи. К популярным услугам также относится магнитотерапия, лазеротерапия и интерференционные токи."
   ]
  },
  {
   "cell_type": "markdown",
   "id": "676efd03",
   "metadata": {},
   "source": [
    "#### Категории услуг"
   ]
  },
  {
   "cell_type": "markdown",
   "id": "e68ae3dd",
   "metadata": {},
   "source": [
    "Всего клиника оказывает 875 уникальных услуг, для удобства дальнейшего анализа распределим их по категориям. Для этого название услуги разделим на отдельные слова и по ключевым словам отнесем услугу к той или иной категории. Ключевое слово \"исследование\" может относиться сразу к нескольким категориям (например, это может быть исследование крови, глазного дна и т.п.), поэтому в отборе по категориям мы не будем его учитывать. Многие услуги названы одним словом (например, \"глюкоза\"), поэтому не все они войдут в правильную категорию. Для таких услуг предусмотрена категория \"другое\"."
   ]
  },
  {
   "cell_type": "code",
   "execution_count": 28,
   "id": "b24b9c82",
   "metadata": {},
   "outputs": [
    {
     "data": {
      "text/html": [
       "<div>\n",
       "<style scoped>\n",
       "    .dataframe tbody tr th:only-of-type {\n",
       "        vertical-align: middle;\n",
       "    }\n",
       "\n",
       "    .dataframe tbody tr th {\n",
       "        vertical-align: top;\n",
       "    }\n",
       "\n",
       "    .dataframe thead th {\n",
       "        text-align: right;\n",
       "    }\n",
       "</style>\n",
       "<table border=\"1\" class=\"dataframe\">\n",
       "  <thead>\n",
       "    <tr style=\"text-align: right;\">\n",
       "      <th></th>\n",
       "      <th>record_id</th>\n",
       "      <th>date</th>\n",
       "      <th>service_name</th>\n",
       "      <th>total_bill</th>\n",
       "      <th>total_services</th>\n",
       "      <th>patient_id</th>\n",
       "      <th>sex</th>\n",
       "      <th>age</th>\n",
       "      <th>price</th>\n",
       "      <th>year</th>\n",
       "      <th>year_month</th>\n",
       "      <th>month</th>\n",
       "      <th>words</th>\n",
       "    </tr>\n",
       "  </thead>\n",
       "  <tbody>\n",
       "    <tr>\n",
       "      <th>0</th>\n",
       "      <td>30268157003</td>\n",
       "      <td>2021-01-24</td>\n",
       "      <td>прием первичный</td>\n",
       "      <td>1470</td>\n",
       "      <td>1</td>\n",
       "      <td>490777</td>\n",
       "      <td>Female</td>\n",
       "      <td>26</td>\n",
       "      <td>1470.0</td>\n",
       "      <td>2021</td>\n",
       "      <td>2021-01</td>\n",
       "      <td>1</td>\n",
       "      <td>['прием', 'первичный']</td>\n",
       "    </tr>\n",
       "    <tr>\n",
       "      <th>1</th>\n",
       "      <td>30268157103</td>\n",
       "      <td>2021-01-24</td>\n",
       "      <td>взятие материала на посев, цитологическое иссл...</td>\n",
       "      <td>284</td>\n",
       "      <td>1</td>\n",
       "      <td>490777</td>\n",
       "      <td>Female</td>\n",
       "      <td>26</td>\n",
       "      <td>284.0</td>\n",
       "      <td>2021</td>\n",
       "      <td>2021-01</td>\n",
       "      <td>1</td>\n",
       "      <td>['взятие', 'материала', 'на', 'посев,', 'цитол...</td>\n",
       "    </tr>\n",
       "    <tr>\n",
       "      <th>2</th>\n",
       "      <td>30268157203</td>\n",
       "      <td>2021-01-24</td>\n",
       "      <td>посев отдел, дыхательных путей - слизистая зев...</td>\n",
       "      <td>1134</td>\n",
       "      <td>1</td>\n",
       "      <td>490777</td>\n",
       "      <td>Female</td>\n",
       "      <td>26</td>\n",
       "      <td>1134.0</td>\n",
       "      <td>2021</td>\n",
       "      <td>2021-01</td>\n",
       "      <td>1</td>\n",
       "      <td>['посев', 'отдел,', 'дыхательных', 'путей', '-...</td>\n",
       "    </tr>\n",
       "    <tr>\n",
       "      <th>3</th>\n",
       "      <td>30268157303</td>\n",
       "      <td>2021-01-24</td>\n",
       "      <td>общий анализ крови (лейкоцитарная форм,, соэ)</td>\n",
       "      <td>693</td>\n",
       "      <td>1</td>\n",
       "      <td>490777</td>\n",
       "      <td>Female</td>\n",
       "      <td>26</td>\n",
       "      <td>693.0</td>\n",
       "      <td>2021</td>\n",
       "      <td>2021-01</td>\n",
       "      <td>1</td>\n",
       "      <td>['общий', 'анализ', 'крови', '(лейкоцитарная',...</td>\n",
       "    </tr>\n",
       "    <tr>\n",
       "      <th>4</th>\n",
       "      <td>30268157403</td>\n",
       "      <td>2021-01-24</td>\n",
       "      <td>ревматоидный фактор</td>\n",
       "      <td>420</td>\n",
       "      <td>1</td>\n",
       "      <td>490777</td>\n",
       "      <td>Female</td>\n",
       "      <td>26</td>\n",
       "      <td>420.0</td>\n",
       "      <td>2021</td>\n",
       "      <td>2021-01</td>\n",
       "      <td>1</td>\n",
       "      <td>['ревматоидный', 'фактор']</td>\n",
       "    </tr>\n",
       "  </tbody>\n",
       "</table>\n",
       "</div>"
      ],
      "text/plain": [
       "     record_id       date                                       service_name  \\\n",
       "0  30268157003 2021-01-24                                    прием первичный   \n",
       "1  30268157103 2021-01-24  взятие материала на посев, цитологическое иссл...   \n",
       "2  30268157203 2021-01-24  посев отдел, дыхательных путей - слизистая зев...   \n",
       "3  30268157303 2021-01-24      общий анализ крови (лейкоцитарная форм,, соэ)   \n",
       "4  30268157403 2021-01-24                                ревматоидный фактор   \n",
       "\n",
       "   total_bill  total_services  patient_id     sex  age   price  year  \\\n",
       "0        1470               1      490777  Female   26  1470.0  2021   \n",
       "1         284               1      490777  Female   26   284.0  2021   \n",
       "2        1134               1      490777  Female   26  1134.0  2021   \n",
       "3         693               1      490777  Female   26   693.0  2021   \n",
       "4         420               1      490777  Female   26   420.0  2021   \n",
       "\n",
       "  year_month  month                                              words  \n",
       "0    2021-01      1                             ['прием', 'первичный']  \n",
       "1    2021-01      1  ['взятие', 'материала', 'на', 'посев,', 'цитол...  \n",
       "2    2021-01      1  ['посев', 'отдел,', 'дыхательных', 'путей', '-...  \n",
       "3    2021-01      1  ['общий', 'анализ', 'крови', '(лейкоцитарная',...  \n",
       "4    2021-01      1                         ['ревматоидный', 'фактор']  "
      ]
     },
     "execution_count": 28,
     "metadata": {},
     "output_type": "execute_result"
    }
   ],
   "source": [
    "df['service_name'] = list(map(str.lower, df['service_name'])) # приводим название услуг к нижнему регистру\n",
    "df['words'] = df['service_name'].apply(lambda x: x.split(' ')) #создаем колонку words \n",
    "df['words']=df['words'].astype('str')\n",
    "df.head()"
   ]
  },
  {
   "cell_type": "code",
   "execution_count": 29,
   "id": "af7495da",
   "metadata": {},
   "outputs": [],
   "source": [
    "# создаем датасеты по ключевым словам\n",
    "visit = df['words'].str.contains(r\"\\прием|консультация\\b\")\n",
    "ultra = df['words'].str.contains(r\"\\ультразвуковое|скрининг|узи\\b\")\n",
    "oper = df['words'].str.contains(r\"\\взятие|инъекция|наложение|блокада|вакцинация|перевязка|удаление|обработка|биопсия|введение|вскрытие|установка|постановка|пункция|вливание|смазывание|катетеризация|промывание|тампонада|прижигание\\b\")\n",
    "lab = df['words'].str.contains(r\"\\анализ|посев|соскоб|мазок|ттг|глюкоза|алт|билирубин|холестирин|креатинин|мочи|мочевина|белок|лейкоформула|соэ|т4|ггт|фактор|аллергопанель|витамин|кровь|крови|днк|ige|igg|igm|гистологическое|моче|моча|кал|кале|инсулин|гемоглобин|слюна|гормон|тестостерон|проба|железо|кальций|фосфор|антитела|пыльца\\b\")\n",
    "massage = df['words'].str.contains(r\"\\массаж\\b\")\n",
    "treatment = df['words'].str.contains(r\"\\диагностика|терапия|терапии|лечение|сеанс|сканирование|подбор|рефрактометрия|измерение|тест|осмотр|интерпретация|проведение\\b\")\n",
    "xray = df['words'].str.contains(r\"\\рентгенография|рентген|снимок|мрт|мскт\\b\")"
   ]
  },
  {
   "cell_type": "code",
   "execution_count": 30,
   "id": "6decdfc9",
   "metadata": {},
   "outputs": [],
   "source": [
    "# присваиваем категории услугам в основном датасете\n",
    "df.loc[visit, 'service_category'] = \"прием\"\n",
    "df.loc[ultra, 'service_category'] = \"узи\"\n",
    "df.loc[oper, 'service_category'] = \"манипуляции\"\n",
    "df.loc[lab, 'service_category'] = \"лаборатория\"\n",
    "df.loc[massage, 'service_category'] = \"массаж\"\n",
    "df.loc[treatment, 'service_category'] = \"диагностика и лечение\"\n",
    "df.loc[xray, 'service_category'] = \"рентген и мрт\"\n",
    "df['service_category'] = df['service_category'].fillna(\"другое\")"
   ]
  },
  {
   "cell_type": "code",
   "execution_count": 31,
   "id": "305fbdb4",
   "metadata": {},
   "outputs": [
    {
     "data": {
      "text/plain": [
       "прием                    26322\n",
       "лаборатория              22584\n",
       "диагностика и лечение    13827\n",
       "другое                    9694\n",
       "манипуляции               4556\n",
       "узи                       4021\n",
       "рентген и мрт             2597\n",
       "массаж                    1747\n",
       "Name: service_category, dtype: int64"
      ]
     },
     "execution_count": 31,
     "metadata": {},
     "output_type": "execute_result"
    }
   ],
   "source": [
    "# получившиеся категории и количество услуг, оказанных в них\n",
    "df['service_category'].value_counts()"
   ]
  },
  {
   "cell_type": "markdown",
   "id": "91aa4b34",
   "metadata": {},
   "source": [
    "Посмотрим, как меняется состав услуг, за которыми обращаются в клинику, по годам. Поскольку у нас нет информации за полный 2022 г., рассмотрим распределение услуг по категориям, а не их абсолютное количество."
   ]
  },
  {
   "cell_type": "code",
   "execution_count": 71,
   "id": "0cf14dbd",
   "metadata": {},
   "outputs": [
    {
     "data": {
      "image/png": "[encoded data removed]"
     },
     "metadata": {},
     "output_type": "display_data"
    }
   ],
   "source": [
    "categories = df.groupby(['service_category', 'year']).agg({'patient_id':'count'}).sort_values(by='patient_id', ascending=True).reset_index()\n",
    "fig = px.histogram(categories, x='patient_id', y='service_category', color='year',\n",
    "              barmode='group', histnorm='percent', text_auto='.2f',\n",
    "              title='Распределение количества оказанных услуг по категориям')\n",
    "fig.update_layout(xaxis_title='Доля от общего количества услуг в этом году', yaxis_title='')\n",
    "fig.update_xaxes(categoryorder='total ascending') #сортировка по оси у\n",
    "fig.update_layout(legend=dict(title='Год')) #меняем заголовок легенды\n",
    "fig.update_layout(legend={'traceorder':'reversed'}) #сортируем порядок легенды\n",
    "fig.update_layout(title_xref=\"paper\", title_x=0.5) #положение заголовка\n",
    "fig.update_traces(textfont_size=8, textangle=0, textposition='inside', cliponaxis=True) #подписи на столбцах\n",
    "fig.show(renderer='png', width = 1200)"
   ]
  },
  {
   "cell_type": "markdown",
   "id": "aafa2d97",
   "metadata": {},
   "source": [
    "В 2022 г. по сравнению с 2021 г. стали меньше обращаться за лабораторными исследованиями (с 27,% до 25,75%) и диагностикой и лечением (с 16,33% до 16,06%). Увеличилась доля приемов у врача (с 30,58% до 31,12%), медицинских манипуляций (с 5% до 5,7%), узи (с 4,46% до 4,98%), услуг рентгена и мрт (с 2,83% до 3,28%). "
   ]
  },
  {
   "cell_type": "markdown",
   "id": "95145300",
   "metadata": {},
   "source": [
    "#### Цены на услуги"
   ]
  },
  {
   "cell_type": "code",
   "execution_count": 60,
   "id": "56492ef0",
   "metadata": {
    "scrolled": true
   },
   "outputs": [
    {
     "data": {
      "image/png": "[encoded data removed]"
     },
     "metadata": {},
     "output_type": "display_data"
    }
   ],
   "source": [
    "# цены на услуги\n",
    "fig = px.box(df, x='year', y='price')\n",
    "fig.update_layout(title='Размах цен на услуги по годам') #меняем заголовок \n",
    "fig.update_layout(xaxis_title='', yaxis_title='Цена')\n",
    "fig.update_layout(title_xref=\"paper\", title_x=0.5) #положение заголовка\n",
    "fig.update_yaxes(range=[0,4000]) #ограничиваем ось\n",
    "fig.show(renderer='png')"
   ]
  },
  {
   "cell_type": "markdown",
   "id": "cb781b01",
   "metadata": {},
   "source": [
    "В новом году услуги подорожали: большинство услуг в 2021 г. стоят от 147 до 2870 руб., а в 2022 г. - от 150 до 3000 руб. Медианная стоимость услуги составила 1092 р. в 2021 г. и 1190 р. в 2022 г. "
   ]
  },
  {
   "cell_type": "code",
   "execution_count": 34,
   "id": "0dfbe4e6",
   "metadata": {
    "scrolled": false
   },
   "outputs": [
    {
     "data": {
      "text/html": [
       "<div>\n",
       "<style scoped>\n",
       "    .dataframe tbody tr th:only-of-type {\n",
       "        vertical-align: middle;\n",
       "    }\n",
       "\n",
       "    .dataframe tbody tr th {\n",
       "        vertical-align: top;\n",
       "    }\n",
       "\n",
       "    .dataframe thead th {\n",
       "        text-align: right;\n",
       "    }\n",
       "</style>\n",
       "<table border=\"1\" class=\"dataframe\">\n",
       "  <thead>\n",
       "    <tr style=\"text-align: right;\">\n",
       "      <th></th>\n",
       "      <th>record_id</th>\n",
       "      <th>date</th>\n",
       "      <th>service_name</th>\n",
       "      <th>total_bill</th>\n",
       "      <th>total_services</th>\n",
       "      <th>patient_id</th>\n",
       "      <th>sex</th>\n",
       "      <th>age</th>\n",
       "      <th>price</th>\n",
       "      <th>year</th>\n",
       "      <th>year_month</th>\n",
       "      <th>month</th>\n",
       "      <th>words</th>\n",
       "      <th>service_category</th>\n",
       "    </tr>\n",
       "  </thead>\n",
       "  <tbody>\n",
       "    <tr>\n",
       "      <th>18519</th>\n",
       "      <td>30961787103</td>\n",
       "      <td>2021-06-24</td>\n",
       "      <td>гистерорезектоскопия при полипах , рдв</td>\n",
       "      <td>26999</td>\n",
       "      <td>1</td>\n",
       "      <td>362928</td>\n",
       "      <td>Female</td>\n",
       "      <td>51</td>\n",
       "      <td>26999.0</td>\n",
       "      <td>2021</td>\n",
       "      <td>2021-06</td>\n",
       "      <td>6</td>\n",
       "      <td>['гистерорезектоскопия', 'при', 'полипах', ','...</td>\n",
       "      <td>другое</td>\n",
       "    </tr>\n",
       "    <tr>\n",
       "      <th>15588</th>\n",
       "      <td>30961493203</td>\n",
       "      <td>2021-06-17</td>\n",
       "      <td>мрт брюшной полости и забрюшинного пространств...</td>\n",
       "      <td>17325</td>\n",
       "      <td>1</td>\n",
       "      <td>634755</td>\n",
       "      <td>Male</td>\n",
       "      <td>41</td>\n",
       "      <td>17325.0</td>\n",
       "      <td>2021</td>\n",
       "      <td>2021-06</td>\n",
       "      <td>6</td>\n",
       "      <td>['мрт', 'брюшной', 'полости', 'и', 'забрюшинно...</td>\n",
       "      <td>рентген и мрт</td>\n",
       "    </tr>\n",
       "    <tr>\n",
       "      <th>23794</th>\n",
       "      <td>31249334503</td>\n",
       "      <td>2021-08-20</td>\n",
       "      <td>мрт головного мозга и гипофиза с контрастирова...</td>\n",
       "      <td>15225</td>\n",
       "      <td>1</td>\n",
       "      <td>544627</td>\n",
       "      <td>Female</td>\n",
       "      <td>34</td>\n",
       "      <td>15225.0</td>\n",
       "      <td>2021</td>\n",
       "      <td>2021-08</td>\n",
       "      <td>8</td>\n",
       "      <td>['мрт', 'головного', 'мозга', 'и', 'гипофиза',...</td>\n",
       "      <td>рентген и мрт</td>\n",
       "    </tr>\n",
       "    <tr>\n",
       "      <th>27994</th>\n",
       "      <td>31408821503</td>\n",
       "      <td>2021-09-09</td>\n",
       "      <td>мультипараметрическая мрт предстательной желез...</td>\n",
       "      <td>14175</td>\n",
       "      <td>1</td>\n",
       "      <td>531654</td>\n",
       "      <td>Male</td>\n",
       "      <td>59</td>\n",
       "      <td>14175.0</td>\n",
       "      <td>2021</td>\n",
       "      <td>2021-09</td>\n",
       "      <td>9</td>\n",
       "      <td>['мультипараметрическая', 'мрт', 'предстательн...</td>\n",
       "      <td>рентген и мрт</td>\n",
       "    </tr>\n",
       "    <tr>\n",
       "      <th>37286</th>\n",
       "      <td>31680697303</td>\n",
       "      <td>2021-11-10</td>\n",
       "      <td>мрт органов малого таза с внутривенным контрас...</td>\n",
       "      <td>13780</td>\n",
       "      <td>1</td>\n",
       "      <td>596539</td>\n",
       "      <td>Female</td>\n",
       "      <td>27</td>\n",
       "      <td>13780.0</td>\n",
       "      <td>2021</td>\n",
       "      <td>2021-11</td>\n",
       "      <td>11</td>\n",
       "      <td>['мрт', 'органов', 'малого', 'таза', 'с', 'вну...</td>\n",
       "      <td>рентген и мрт</td>\n",
       "    </tr>\n",
       "  </tbody>\n",
       "</table>\n",
       "</div>"
      ],
      "text/plain": [
       "         record_id       date  \\\n",
       "18519  30961787103 2021-06-24   \n",
       "15588  30961493203 2021-06-17   \n",
       "23794  31249334503 2021-08-20   \n",
       "27994  31408821503 2021-09-09   \n",
       "37286  31680697303 2021-11-10   \n",
       "\n",
       "                                            service_name  total_bill  \\\n",
       "18519             гистерорезектоскопия при полипах , рдв       26999   \n",
       "15588  мрт брюшной полости и забрюшинного пространств...       17325   \n",
       "23794  мрт головного мозга и гипофиза с контрастирова...       15225   \n",
       "27994  мультипараметрическая мрт предстательной желез...       14175   \n",
       "37286  мрт органов малого таза с внутривенным контрас...       13780   \n",
       "\n",
       "       total_services  patient_id     sex  age    price  year year_month  \\\n",
       "18519               1      362928  Female   51  26999.0  2021    2021-06   \n",
       "15588               1      634755    Male   41  17325.0  2021    2021-06   \n",
       "23794               1      544627  Female   34  15225.0  2021    2021-08   \n",
       "27994               1      531654    Male   59  14175.0  2021    2021-09   \n",
       "37286               1      596539  Female   27  13780.0  2021    2021-11   \n",
       "\n",
       "       month                                              words  \\\n",
       "18519      6  ['гистерорезектоскопия', 'при', 'полипах', ','...   \n",
       "15588      6  ['мрт', 'брюшной', 'полости', 'и', 'забрюшинно...   \n",
       "23794      8  ['мрт', 'головного', 'мозга', 'и', 'гипофиза',...   \n",
       "27994      9  ['мультипараметрическая', 'мрт', 'предстательн...   \n",
       "37286     11  ['мрт', 'органов', 'малого', 'таза', 'с', 'вну...   \n",
       "\n",
       "      service_category  \n",
       "18519           другое  \n",
       "15588    рентген и мрт  \n",
       "23794    рентген и мрт  \n",
       "27994    рентген и мрт  \n",
       "37286    рентген и мрт  "
      ]
     },
     "execution_count": 34,
     "metadata": {},
     "output_type": "execute_result"
    }
   ],
   "source": [
    "#услуги дороже 3 тыс.\n",
    "exp_services = df.query('price>3000')\n",
    "exp_services.sort_values(by='price', ascending=False).head()\n",
    "#exp_services.groupby('service_category').agg({'service_name':'count'})"
   ]
  },
  {
   "cell_type": "markdown",
   "id": "a9e6e8c2",
   "metadata": {},
   "source": [
    "Самые дорогие услуги - это гистерорезектоскопия при полипах, а также различные мрт-исследования."
   ]
  },
  {
   "cell_type": "markdown",
   "id": "37add0af",
   "metadata": {},
   "source": [
    "Посмотрим, как изменилась цена на услуги в 2022 г."
   ]
  },
  {
   "cell_type": "code",
   "execution_count": 35,
   "id": "7fec6c2c",
   "metadata": {
    "scrolled": false
   },
   "outputs": [
    {
     "data": {
      "text/html": [
       "<div>\n",
       "<style scoped>\n",
       "    .dataframe tbody tr th:only-of-type {\n",
       "        vertical-align: middle;\n",
       "    }\n",
       "\n",
       "    .dataframe tbody tr th {\n",
       "        vertical-align: top;\n",
       "    }\n",
       "\n",
       "    .dataframe thead th {\n",
       "        text-align: right;\n",
       "    }\n",
       "</style>\n",
       "<table border=\"1\" class=\"dataframe\">\n",
       "  <thead>\n",
       "    <tr style=\"text-align: right;\">\n",
       "      <th></th>\n",
       "      <th>service_name</th>\n",
       "      <th>service_category</th>\n",
       "      <th>year_2021</th>\n",
       "      <th>year_2022</th>\n",
       "      <th>change</th>\n",
       "      <th>change_rate</th>\n",
       "    </tr>\n",
       "  </thead>\n",
       "  <tbody>\n",
       "    <tr>\n",
       "      <th>0</th>\n",
       "      <td>(1 e)аллергопанель ige (молоко коровье, молоко...</td>\n",
       "      <td>лаборатория</td>\n",
       "      <td>NaN</td>\n",
       "      <td>1520.0</td>\n",
       "      <td>NaN</td>\n",
       "      <td>NaN</td>\n",
       "    </tr>\n",
       "    <tr>\n",
       "      <th>1</th>\n",
       "      <td>(2 e)аллергопанель ige (пшеничная мука, ржаная...</td>\n",
       "      <td>лаборатория</td>\n",
       "      <td>NaN</td>\n",
       "      <td>1520.0</td>\n",
       "      <td>NaN</td>\n",
       "      <td>NaN</td>\n",
       "    </tr>\n",
       "    <tr>\n",
       "      <th>2</th>\n",
       "      <td>(3 e)аллергопанель ige (фасоль (бобы), горох, ...</td>\n",
       "      <td>лаборатория</td>\n",
       "      <td>NaN</td>\n",
       "      <td>1520.0</td>\n",
       "      <td>NaN</td>\n",
       "      <td>NaN</td>\n",
       "    </tr>\n",
       "    <tr>\n",
       "      <th>3</th>\n",
       "      <td>(4 e)аллергопанель ige (говядина, телятина, св...</td>\n",
       "      <td>лаборатория</td>\n",
       "      <td>NaN</td>\n",
       "      <td>1520.0</td>\n",
       "      <td>NaN</td>\n",
       "      <td>NaN</td>\n",
       "    </tr>\n",
       "    <tr>\n",
       "      <th>4</th>\n",
       "      <td>(б1 (11))аллергопанель ige шерсть кошки, шерст...</td>\n",
       "      <td>лаборатория</td>\n",
       "      <td>1466.75</td>\n",
       "      <td>1520.0</td>\n",
       "      <td>53.25</td>\n",
       "      <td>3.630476</td>\n",
       "    </tr>\n",
       "  </tbody>\n",
       "</table>\n",
       "</div>"
      ],
      "text/plain": [
       "                                        service_name service_category  \\\n",
       "0  (1 e)аллергопанель ige (молоко коровье, молоко...      лаборатория   \n",
       "1  (2 e)аллергопанель ige (пшеничная мука, ржаная...      лаборатория   \n",
       "2  (3 e)аллергопанель ige (фасоль (бобы), горох, ...      лаборатория   \n",
       "3  (4 e)аллергопанель ige (говядина, телятина, св...      лаборатория   \n",
       "4  (б1 (11))аллергопанель ige шерсть кошки, шерст...      лаборатория   \n",
       "\n",
       "   year_2021  year_2022  change  change_rate  \n",
       "0        NaN     1520.0     NaN          NaN  \n",
       "1        NaN     1520.0     NaN          NaN  \n",
       "2        NaN     1520.0     NaN          NaN  \n",
       "3        NaN     1520.0     NaN          NaN  \n",
       "4    1466.75     1520.0   53.25     3.630476  "
      ]
     },
     "execution_count": 35,
     "metadata": {},
     "output_type": "execute_result"
    }
   ],
   "source": [
    "pricing = pd.pivot_table(df, index=['service_name','service_category'], columns='year', values='price').reset_index()\n",
    "pricing.columns=['service_name','service_category', 'year_2021', 'year_2022']\n",
    "pricing['change'] = pricing['year_2021'] - pricing['year_2022'] #создаем колонку с изменением цены\n",
    "pricing['change'] = abs(pricing['change']) #отображаем абсолютное значение изменение цены\n",
    "pricing['change_rate'] = (pricing['year_2022'] - pricing['year_2021'])/pricing['year_2021']*100 #насколько изменилась цена\n",
    "pricing.head()"
   ]
  },
  {
   "cell_type": "markdown",
   "id": "36ab72a4",
   "metadata": {},
   "source": [
    "В таблице есть пропуски - это услуги, которые перестали оказывать в 2022 г., либо новые услуги, которых в 2021 г. еще не было."
   ]
  },
  {
   "cell_type": "code",
   "execution_count": 36,
   "id": "9a5fb4bf",
   "metadata": {},
   "outputs": [
    {
     "name": "stdout",
     "output_type": "stream",
     "text": [
      "Количество новых услуг в 2022 г.: 136\n",
      "Количество услуг, которые больше не оказываются в 2022 г.: 196\n"
     ]
    }
   ],
   "source": [
    "new_services = pricing[pricing['year_2021'].isna()]\n",
    "print('Количество новых услуг в 2022 г.:', len(new_services))\n",
    "discarded_services = pricing[pricing['year_2022'].isna()]\n",
    "print('Количество услуг, которые больше не оказываются в 2022 г.:', len(discarded_services))"
   ]
  },
  {
   "cell_type": "markdown",
   "id": "f7ff3541",
   "metadata": {},
   "source": [
    "<b>Комментарий ревьюера:</b> Возможно, услуги были просто переименнованны. Без дополнительного исследования не стоит писать об их исчезновении либо возникновении."
   ]
  },
  {
   "cell_type": "code",
   "execution_count": 37,
   "id": "4aeaead6",
   "metadata": {},
   "outputs": [
    {
     "name": "stdout",
     "output_type": "stream",
     "text": [
      "Количество услуг, цена на которые уменьшилась: 1\n",
      "Количество услуг, цена на которые увеличилась: 518\n"
     ]
    }
   ],
   "source": [
    "# количество услуг, цена на которые уменьшилась\n",
    "decreased_prices = pricing.query('change_rate < 0')\n",
    "print('Количество услуг, цена на которые уменьшилась:', len(decreased_prices))\n",
    "\n",
    "# количество услуг, цена на которые увеличилась\n",
    "increased_prices = pricing.query('change_rate > 0')\n",
    "print('Количество услуг, цена на которые увеличилась:', len(increased_prices))"
   ]
  },
  {
   "cell_type": "markdown",
   "id": "0054335b",
   "metadata": {},
   "source": [
    "В 2022 г. увеличилась цена на 518 услуг, а уменьшилась всего на 1. Рассмотрим эти услуги подробнее."
   ]
  },
  {
   "cell_type": "code",
   "execution_count": 38,
   "id": "000c0f70",
   "metadata": {},
   "outputs": [
    {
     "data": {
      "text/html": [
       "<div>\n",
       "<style scoped>\n",
       "    .dataframe tbody tr th:only-of-type {\n",
       "        vertical-align: middle;\n",
       "    }\n",
       "\n",
       "    .dataframe tbody tr th {\n",
       "        vertical-align: top;\n",
       "    }\n",
       "\n",
       "    .dataframe thead th {\n",
       "        text-align: right;\n",
       "    }\n",
       "</style>\n",
       "<table border=\"1\" class=\"dataframe\">\n",
       "  <thead>\n",
       "    <tr style=\"text-align: right;\">\n",
       "      <th></th>\n",
       "      <th>service_name</th>\n",
       "      <th>service_category</th>\n",
       "      <th>year_2021</th>\n",
       "      <th>year_2022</th>\n",
       "      <th>change</th>\n",
       "      <th>change_rate</th>\n",
       "    </tr>\n",
       "  </thead>\n",
       "  <tbody>\n",
       "    <tr>\n",
       "      <th>286</th>\n",
       "      <td>исследование мокроты</td>\n",
       "      <td>другое</td>\n",
       "      <td>809.0</td>\n",
       "      <td>600.0</td>\n",
       "      <td>209.0</td>\n",
       "      <td>-25.834363</td>\n",
       "    </tr>\n",
       "  </tbody>\n",
       "</table>\n",
       "</div>"
      ],
      "text/plain": [
       "             service_name service_category  year_2021  year_2022  change  \\\n",
       "286  исследование мокроты           другое      809.0      600.0   209.0   \n",
       "\n",
       "     change_rate  \n",
       "286   -25.834363  "
      ]
     },
     "execution_count": 38,
     "metadata": {},
     "output_type": "execute_result"
    }
   ],
   "source": [
    "# цена уменьшилась\n",
    "decreased_prices"
   ]
  },
  {
   "cell_type": "code",
   "execution_count": 39,
   "id": "d10887ec",
   "metadata": {
    "scrolled": true
   },
   "outputs": [
    {
     "data": {
      "text/html": [
       "<div>\n",
       "<style scoped>\n",
       "    .dataframe tbody tr th:only-of-type {\n",
       "        vertical-align: middle;\n",
       "    }\n",
       "\n",
       "    .dataframe tbody tr th {\n",
       "        vertical-align: top;\n",
       "    }\n",
       "\n",
       "    .dataframe thead th {\n",
       "        text-align: right;\n",
       "    }\n",
       "</style>\n",
       "<table border=\"1\" class=\"dataframe\">\n",
       "  <thead>\n",
       "    <tr style=\"text-align: right;\">\n",
       "      <th></th>\n",
       "      <th>record_id</th>\n",
       "      <th>date</th>\n",
       "      <th>service_name</th>\n",
       "      <th>total_bill</th>\n",
       "      <th>total_services</th>\n",
       "      <th>patient_id</th>\n",
       "      <th>sex</th>\n",
       "      <th>age</th>\n",
       "      <th>price</th>\n",
       "      <th>year</th>\n",
       "      <th>year_month</th>\n",
       "      <th>month</th>\n",
       "      <th>words</th>\n",
       "      <th>service_category</th>\n",
       "    </tr>\n",
       "  </thead>\n",
       "  <tbody>\n",
       "    <tr>\n",
       "      <th>23348</th>\n",
       "      <td>31249288703</td>\n",
       "      <td>2021-08-05</td>\n",
       "      <td>исследование мокроты</td>\n",
       "      <td>809</td>\n",
       "      <td>1</td>\n",
       "      <td>680921</td>\n",
       "      <td>Female</td>\n",
       "      <td>29</td>\n",
       "      <td>809.0</td>\n",
       "      <td>2021</td>\n",
       "      <td>2021-08</td>\n",
       "      <td>8</td>\n",
       "      <td>['исследование', 'мокроты']</td>\n",
       "      <td>другое</td>\n",
       "    </tr>\n",
       "    <tr>\n",
       "      <th>54785</th>\n",
       "      <td>32326921703</td>\n",
       "      <td>2022-03-27</td>\n",
       "      <td>исследование мокроты</td>\n",
       "      <td>600</td>\n",
       "      <td>1</td>\n",
       "      <td>873191</td>\n",
       "      <td>Male</td>\n",
       "      <td>28</td>\n",
       "      <td>600.0</td>\n",
       "      <td>2022</td>\n",
       "      <td>2022-03</td>\n",
       "      <td>3</td>\n",
       "      <td>['исследование', 'мокроты']</td>\n",
       "      <td>другое</td>\n",
       "    </tr>\n",
       "  </tbody>\n",
       "</table>\n",
       "</div>"
      ],
      "text/plain": [
       "         record_id       date          service_name  total_bill  \\\n",
       "23348  31249288703 2021-08-05  исследование мокроты         809   \n",
       "54785  32326921703 2022-03-27  исследование мокроты         600   \n",
       "\n",
       "       total_services  patient_id     sex  age  price  year year_month  month  \\\n",
       "23348               1      680921  Female   29  809.0  2021    2021-08      8   \n",
       "54785               1      873191    Male   28  600.0  2022    2022-03      3   \n",
       "\n",
       "                             words service_category  \n",
       "23348  ['исследование', 'мокроты']           другое  \n",
       "54785  ['исследование', 'мокроты']           другое  "
      ]
     },
     "execution_count": 39,
     "metadata": {},
     "output_type": "execute_result"
    }
   ],
   "source": [
    "df.query('service_name == \"исследование мокроты\"')"
   ]
  },
  {
   "cell_type": "markdown",
   "id": "ea4045e5",
   "metadata": {},
   "source": [
    "Единственная услуга, которая обошлась дешевле в 2022 г., чем в 2021 г. - это исследование мокроты. Она проводилась всего по одному разу в каждом году. Можно предположить, что пациент в 2022 г. имел какую-либо скидку или бонусные баллы в клинике, учитывая, что все остальные услуги не дешевеют. "
   ]
  },
  {
   "cell_type": "markdown",
   "id": "83f38d4c",
   "metadata": {},
   "source": [
    "Посмотрим на то, как цены увеличились."
   ]
  },
  {
   "cell_type": "code",
   "execution_count": 40,
   "id": "c37f8f22",
   "metadata": {
    "scrolled": false
   },
   "outputs": [
    {
     "data": {
      "text/html": [
       "<div>\n",
       "<style scoped>\n",
       "    .dataframe tbody tr th:only-of-type {\n",
       "        vertical-align: middle;\n",
       "    }\n",
       "\n",
       "    .dataframe tbody tr th {\n",
       "        vertical-align: top;\n",
       "    }\n",
       "\n",
       "    .dataframe thead th {\n",
       "        text-align: right;\n",
       "    }\n",
       "</style>\n",
       "<table border=\"1\" class=\"dataframe\">\n",
       "  <thead>\n",
       "    <tr style=\"text-align: right;\">\n",
       "      <th></th>\n",
       "      <th>service_name</th>\n",
       "      <th>service_category</th>\n",
       "      <th>year_2021</th>\n",
       "      <th>year_2022</th>\n",
       "      <th>change</th>\n",
       "      <th>change_rate</th>\n",
       "    </tr>\n",
       "  </thead>\n",
       "  <tbody>\n",
       "    <tr>\n",
       "      <th>173</th>\n",
       "      <td>введение лекарственных препаратов в наружный с...</td>\n",
       "      <td>манипуляции</td>\n",
       "      <td>265.0</td>\n",
       "      <td>308.0</td>\n",
       "      <td>43.0</td>\n",
       "      <td>16.0</td>\n",
       "    </tr>\n",
       "    <tr>\n",
       "      <th>271</th>\n",
       "      <td>интерпретация результатов диаскинтеста</td>\n",
       "      <td>диагностика и лечение</td>\n",
       "      <td>1103.0</td>\n",
       "      <td>1280.0</td>\n",
       "      <td>177.0</td>\n",
       "      <td>16.0</td>\n",
       "    </tr>\n",
       "    <tr>\n",
       "      <th>15</th>\n",
       "      <td>chlamydia pneumoniae igg</td>\n",
       "      <td>лаборатория</td>\n",
       "      <td>599.0</td>\n",
       "      <td>690.0</td>\n",
       "      <td>91.0</td>\n",
       "      <td>15.0</td>\n",
       "    </tr>\n",
       "    <tr>\n",
       "      <th>609</th>\n",
       "      <td>проведение диаскинтеста</td>\n",
       "      <td>диагностика и лечение</td>\n",
       "      <td>1365.0</td>\n",
       "      <td>1570.0</td>\n",
       "      <td>205.0</td>\n",
       "      <td>15.0</td>\n",
       "    </tr>\n",
       "    <tr>\n",
       "      <th>786</th>\n",
       "      <td>ультразвуковое исследование большие сроки бере...</td>\n",
       "      <td>узи</td>\n",
       "      <td>3045.0</td>\n",
       "      <td>3500.0</td>\n",
       "      <td>455.0</td>\n",
       "      <td>15.0</td>\n",
       "    </tr>\n",
       "  </tbody>\n",
       "</table>\n",
       "</div>"
      ],
      "text/plain": [
       "                                          service_name       service_category  \\\n",
       "173  введение лекарственных препаратов в наружный с...            манипуляции   \n",
       "271             интерпретация результатов диаскинтеста  диагностика и лечение   \n",
       "15                            chlamydia pneumoniae igg            лаборатория   \n",
       "609                            проведение диаскинтеста  диагностика и лечение   \n",
       "786  ультразвуковое исследование большие сроки бере...                    узи   \n",
       "\n",
       "     year_2021  year_2022  change  change_rate  \n",
       "173      265.0      308.0    43.0         16.0  \n",
       "271     1103.0     1280.0   177.0         16.0  \n",
       "15       599.0      690.0    91.0         15.0  \n",
       "609     1365.0     1570.0   205.0         15.0  \n",
       "786     3045.0     3500.0   455.0         15.0  "
      ]
     },
     "execution_count": 40,
     "metadata": {},
     "output_type": "execute_result"
    }
   ],
   "source": [
    "increased_prices_by_service = increased_prices.sort_values(by='change_rate', ascending=False)\n",
    "round(increased_prices_by_service).head()"
   ]
  },
  {
   "cell_type": "code",
   "execution_count": 41,
   "id": "1d6bd4fc",
   "metadata": {},
   "outputs": [
    {
     "data": {
      "text/html": [
       "<div>\n",
       "<style scoped>\n",
       "    .dataframe tbody tr th:only-of-type {\n",
       "        vertical-align: middle;\n",
       "    }\n",
       "\n",
       "    .dataframe tbody tr th {\n",
       "        vertical-align: top;\n",
       "    }\n",
       "\n",
       "    .dataframe thead tr th {\n",
       "        text-align: left;\n",
       "    }\n",
       "</style>\n",
       "<table border=\"1\" class=\"dataframe\">\n",
       "  <thead>\n",
       "    <tr>\n",
       "      <th></th>\n",
       "      <th>service_category</th>\n",
       "      <th>service_name</th>\n",
       "      <th colspan=\"3\" halign=\"left\">change_rate</th>\n",
       "    </tr>\n",
       "    <tr>\n",
       "      <th></th>\n",
       "      <th></th>\n",
       "      <th>count</th>\n",
       "      <th>min</th>\n",
       "      <th>max</th>\n",
       "      <th>median</th>\n",
       "    </tr>\n",
       "  </thead>\n",
       "  <tbody>\n",
       "    <tr>\n",
       "      <th>0</th>\n",
       "      <td>диагностика и лечение</td>\n",
       "      <td>50</td>\n",
       "      <td>0.331825</td>\n",
       "      <td>16.047144</td>\n",
       "      <td>4.463441</td>\n",
       "    </tr>\n",
       "    <tr>\n",
       "      <th>1</th>\n",
       "      <td>другое</td>\n",
       "      <td>128</td>\n",
       "      <td>0.161812</td>\n",
       "      <td>9.756098</td>\n",
       "      <td>4.683680</td>\n",
       "    </tr>\n",
       "    <tr>\n",
       "      <th>2</th>\n",
       "      <td>лаборатория</td>\n",
       "      <td>185</td>\n",
       "      <td>0.840336</td>\n",
       "      <td>15.191987</td>\n",
       "      <td>4.937952</td>\n",
       "    </tr>\n",
       "    <tr>\n",
       "      <th>3</th>\n",
       "      <td>манипуляции</td>\n",
       "      <td>54</td>\n",
       "      <td>0.257069</td>\n",
       "      <td>16.171617</td>\n",
       "      <td>4.842592</td>\n",
       "    </tr>\n",
       "    <tr>\n",
       "      <th>4</th>\n",
       "      <td>массаж</td>\n",
       "      <td>8</td>\n",
       "      <td>2.517202</td>\n",
       "      <td>6.673743</td>\n",
       "      <td>3.665321</td>\n",
       "    </tr>\n",
       "    <tr>\n",
       "      <th>5</th>\n",
       "      <td>прием</td>\n",
       "      <td>51</td>\n",
       "      <td>0.457980</td>\n",
       "      <td>13.608247</td>\n",
       "      <td>1.010283</td>\n",
       "    </tr>\n",
       "    <tr>\n",
       "      <th>6</th>\n",
       "      <td>рентген и мрт</td>\n",
       "      <td>25</td>\n",
       "      <td>2.325581</td>\n",
       "      <td>8.714044</td>\n",
       "      <td>4.322793</td>\n",
       "    </tr>\n",
       "    <tr>\n",
       "      <th>7</th>\n",
       "      <td>узи</td>\n",
       "      <td>17</td>\n",
       "      <td>2.847317</td>\n",
       "      <td>14.942529</td>\n",
       "      <td>4.885075</td>\n",
       "    </tr>\n",
       "  </tbody>\n",
       "</table>\n",
       "</div>"
      ],
      "text/plain": [
       "        service_category service_name change_rate                     \n",
       "                                count         min        max    median\n",
       "0  диагностика и лечение           50    0.331825  16.047144  4.463441\n",
       "1                 другое          128    0.161812   9.756098  4.683680\n",
       "2            лаборатория          185    0.840336  15.191987  4.937952\n",
       "3            манипуляции           54    0.257069  16.171617  4.842592\n",
       "4                 массаж            8    2.517202   6.673743  3.665321\n",
       "5                  прием           51    0.457980  13.608247  1.010283\n",
       "6          рентген и мрт           25    2.325581   8.714044  4.322793\n",
       "7                    узи           17    2.847317  14.942529  4.885075"
      ]
     },
     "execution_count": 41,
     "metadata": {},
     "output_type": "execute_result"
    }
   ],
   "source": [
    "increased_prices_by_category = increased_prices.groupby('service_category').agg({'service_name':'count', 'change_rate':['min', 'max','median']}).reset_index()\n",
    "increased_prices_by_category"
   ]
  },
  {
   "cell_type": "markdown",
   "id": "b3497926",
   "metadata": {},
   "source": [
    "Уровень подорожания услуг разнится по категориям. Самое высокое медианное подорожание наблюдается на лабораторные услуги: в среднем почти на 5%. Скорее всего, это связано с повышением цен на реагенты и обоорудование, с помощью которых проводятся исследования. Максимальное повышение на отдельные услуги составило 15%. Услуги в категориях \"диагностика и лечение\", \"манипуляции\", \"узи\" подорожали в среднем на 4,4-4,9%, \"массаж\" - на 3,6%. Практически не изменилась цена на прием (консультацию) у врачей: медианная цена повысилась всего на 1%."
   ]
  },
  {
   "cell_type": "markdown",
   "id": "985de01c",
   "metadata": {},
   "source": [
    "Посмотрим на изменение цен в динамике в отдельных категориях."
   ]
  },
  {
   "cell_type": "code",
   "execution_count": 72,
   "id": "cce040d5",
   "metadata": {},
   "outputs": [
    {
     "data": {
      "image/png": "[encoded data removed]"
     },
     "metadata": {},
     "output_type": "display_data"
    }
   ],
   "source": [
    "dia_top = df.query('service_category == \"диагностика и лечение\"')\n",
    "dia_top = dia_top.groupby('service_name').agg({'patient_id':'count'}).sort_values(by='patient_id', ascending=False).reset_index().head(5)\n",
    "dia_top_services = dia_top['service_name']\n",
    "dia_change = df.query('service_name in @dia_top_services')\n",
    "fig = px.line(dia_change, x='year_month', y='price', color='service_name',  markers=True,\n",
    "              title='Изменение цен на топ-5 популярных услуг в категории \"диагностика и лечение\" ')\n",
    "fig.update_layout(xaxis_title='Дата', yaxis_title='Цена услуги')\n",
    "fig.update_layout(legend=dict(title='Группа')) #меняем заголовок легенды\n",
    "fig.update_layout(title_xref=\"paper\", title_x=0.5) #положение заголовка\n",
    "fig.show(renderer='png', width = 1200)"
   ]
  },
  {
   "cell_type": "code",
   "execution_count": 73,
   "id": "09c49a71",
   "metadata": {},
   "outputs": [
    {
     "data": {
      "image/png": "[encoded data removed]"
     },
     "metadata": {},
     "output_type": "display_data"
    }
   ],
   "source": [
    "ultra_top = df.query('service_category == \"узи\"')\n",
    "ultra_top = ultra_top.groupby('service_name').agg({'patient_id':'count'}).sort_values(by='patient_id', ascending=False).reset_index().head(5)\n",
    "ultra_top_services = ultra_top['service_name']\n",
    "ultra_change = df.query('service_name in @ultra_top_services')\n",
    "fig = px.line(ultra_change, x='year_month', y='price', color='service_name',  markers=True,\n",
    "              title='Изменение цен на топ-5 популярных услуг в категории \"узи\" ')\n",
    "fig.update_layout(xaxis_title='Дата', yaxis_title='Цена услуги')\n",
    "fig.update_layout(legend=dict(title='Группа')) #меняем заголовок легенды\n",
    "fig.update_layout(title_xref=\"paper\", title_x=0.5) #положение заголовка\n",
    "fig.show(renderer='png', width = 1200)"
   ]
  },
  {
   "cell_type": "markdown",
   "id": "a5ad41bf",
   "metadata": {},
   "source": [
    "Цены на некоторые виды узи совпадают, поэтому на графике накладываются друг на друга. По графикам мы наблюдаем два раунда повышения цен на услуги клиники: в октябре 2021 г. и в июле 2022 г. Видимо, цена на услуги клиники фиксированная, а повышение цен происходит планово один раз в год."
   ]
  },
  {
   "cell_type": "markdown",
   "id": "97ff20a8",
   "metadata": {},
   "source": [
    "Вывод: клиника оказывает 875 уникальных услуг. Самые популярные - это первичный и повторный прием врача, а также взятие крови из вены и анализ крови.  \n",
    "В 2021 г. пациентам было оказано 44371 услуг, а за неполный 2022 г. - 40977. В 2022 г. в каждом месяце клиника оказывала больше услуг, чем в 2021 г., кроме августа. Больше всего в 2021 г. пациенты обращались в клинику в октябре (5065 услуг), а в 2022 г. - в апреле (6692 услуг).  \n",
    "В 2022 г. по сравнению с 2021 г. стали меньше обращаться за лабораторными исследованиями (с 27,% до 25,75%) и диагностикой и лечением (с 16,33% до 16,06%). Увеличилась доля приемов у врача (с 30,58% до 31,12%), медицинских манипуляций (с 5% до 5,7%), узи (с 4,46% до 4,98%), услуг рентгена и мрт (с 2,83% до 3,28%).  \n",
    "Цены на услуги клиники повышались два раза: в октябре 2021 г. и в июле 2022 г. Медианная стоимость услуги составила 1092 р. в 2021 г. и 1190 р. в 2022 г. Уровень подорожания услуг разнится по категориям. Медианное увеличение на услуги в категориях \"лаборатория\", \"диагностика и лечение\", \"манипуляции\", \"узи\" составило от  4,4% до 4,9%, в категории \"массаж\" - на 3,6%, а на прием врачей - всего 1%. "
   ]
  },
  {
   "cell_type": "markdown",
   "id": "e6812304",
   "metadata": {},
   "source": [
    "### Выручка"
   ]
  },
  {
   "cell_type": "code",
   "execution_count": 44,
   "id": "d35d1af3",
   "metadata": {},
   "outputs": [
    {
     "data": {
      "text/html": [
       "<div>\n",
       "<style scoped>\n",
       "    .dataframe tbody tr th:only-of-type {\n",
       "        vertical-align: middle;\n",
       "    }\n",
       "\n",
       "    .dataframe tbody tr th {\n",
       "        vertical-align: top;\n",
       "    }\n",
       "\n",
       "    .dataframe thead th {\n",
       "        text-align: right;\n",
       "    }\n",
       "</style>\n",
       "<table border=\"1\" class=\"dataframe\">\n",
       "  <thead>\n",
       "    <tr style=\"text-align: right;\">\n",
       "      <th></th>\n",
       "      <th>year</th>\n",
       "      <th>price</th>\n",
       "      <th>change</th>\n",
       "      <th>change_rate</th>\n",
       "    </tr>\n",
       "  </thead>\n",
       "  <tbody>\n",
       "    <tr>\n",
       "      <th>0</th>\n",
       "      <td>2021</td>\n",
       "      <td>49730356.0</td>\n",
       "      <td>-1354490.0</td>\n",
       "      <td>-2.723668</td>\n",
       "    </tr>\n",
       "    <tr>\n",
       "      <th>1</th>\n",
       "      <td>2022</td>\n",
       "      <td>48375866.0</td>\n",
       "      <td>-1354490.0</td>\n",
       "      <td>-2.723668</td>\n",
       "    </tr>\n",
       "  </tbody>\n",
       "</table>\n",
       "</div>"
      ],
      "text/plain": [
       "   year       price     change  change_rate\n",
       "0  2021  49730356.0 -1354490.0    -2.723668\n",
       "1  2022  48375866.0 -1354490.0    -2.723668"
      ]
     },
     "execution_count": 44,
     "metadata": {},
     "output_type": "execute_result"
    }
   ],
   "source": [
    "revenue = df.groupby('year').agg({'price':'sum'}).reset_index()\n",
    "revenue['change']=revenue['price'][1]-revenue['price'][0]\n",
    "revenue['change_rate']=(revenue['price'][1] - revenue['price'][0])/revenue['price'][0]*100\n",
    "revenue"
   ]
  },
  {
   "cell_type": "code",
   "execution_count": 74,
   "id": "433fec68",
   "metadata": {},
   "outputs": [
    {
     "data": {
      "image/png": "[encoded data removed]"
     },
     "metadata": {},
     "output_type": "display_data"
    }
   ],
   "source": [
    "monthly_revenue = df.groupby(['year','month']).agg({'price':'sum'}).reset_index()\n",
    "# визуализируем\n",
    "fig = px.histogram(monthly_revenue, x='month', y='price', color='year',\n",
    "              barmode='group',  text_auto='.0f',\n",
    "              title='Выручка по месяцам')\n",
    "fig.update_layout(xaxis_title='Месяц', yaxis_title='Выручка')\n",
    "fig.update_layout(legend=dict(title='Год')) #меняем заголовок легенды\n",
    "fig.update_layout(title_xref=\"paper\", title_x=0.5) #положение заголовка\n",
    "fig.update_xaxes(dtick= 1) # регулируем шаг отметок на оси х\n",
    "#fig.update_xaxes(dtick=\"M1\")\n",
    "fig.update_xaxes(type='category') # регулируем отметки на оси х\n",
    "fig.show(renderer='png')"
   ]
  },
  {
   "cell_type": "markdown",
   "id": "5ae8a588",
   "metadata": {},
   "source": [
    "Выручка за неполный 2022 г. всего на 2.7% меньше, чем за 2021 г. За каждый отдельный месяц, кроме августа, выручка в 2022 г. стабильно выше аналогичного периода в 2021 г."
   ]
  },
  {
   "cell_type": "markdown",
   "id": "15768cea",
   "metadata": {},
   "source": [
    "### Лечение"
   ]
  },
  {
   "cell_type": "markdown",
   "id": "2376c77b",
   "metadata": {},
   "source": [
    "Посмотрим на медианные показатели продолжительности и цены лечения в 2021 и 2022 гг., а также на медианное количество услуг на пациента."
   ]
  },
  {
   "cell_type": "code",
   "execution_count": 46,
   "id": "442f626a",
   "metadata": {},
   "outputs": [],
   "source": [
    "# разделяем датасет по годам\n",
    "year_2021 = df.query('year == 2021')\n",
    "year_2022 = df.query('year == 2022')"
   ]
  },
  {
   "cell_type": "code",
   "execution_count": 47,
   "id": "44e0d0e1",
   "metadata": {},
   "outputs": [
    {
     "name": "stdout",
     "output_type": "stream",
     "text": [
      "Медианное количество услуг на пациента в 2021 г.: 10\n",
      "Медианное количество услуг на пациента в 2022 г.: 8\n"
     ]
    }
   ],
   "source": [
    "# количество услуг\n",
    "total_services_per_patient_2021 = year_2021.groupby('patient_id').agg({'service_name':'count'})\n",
    "print('Медианное количество услуг на пациента в 2021 г.:', round(total_services_per_patient_2021['service_name'].median()))\n",
    "total_services_per_patient_2022 = year_2022.groupby('patient_id').agg({'service_name':'count'})\n",
    "print('Медианное количество услуг на пациента в 2022 г.:', round(total_services_per_patient_2022['service_name'].median()))"
   ]
  },
  {
   "cell_type": "code",
   "execution_count": 48,
   "id": "a4100dd8",
   "metadata": {},
   "outputs": [
    {
     "name": "stdout",
     "output_type": "stream",
     "text": [
      "Медианная продолжительность использования услуг клиники в 2021 г.: 16 days 00:00:00\n",
      "Медианная продолжительность использования услуг клиники в 2022 г.: 13 days 00:00:00\n"
     ]
    }
   ],
   "source": [
    "# продолжительность\n",
    "lifetime_2021 = year_2021.groupby('patient_id').agg({'date':['min', 'max']}).reset_index()\n",
    "lifetime_2021.columns=['patient_id', 'first_visit', 'last_visit']\n",
    "lifetime_2021['lifetime'] = lifetime_2021['last_visit']-lifetime_2021['first_visit']\n",
    "print('Медианная продолжительность использования услуг клиники в 2021 г.:', lifetime_2021['lifetime'].median())\n",
    "\n",
    "lifetime_2022 = year_2022.groupby('patient_id').agg({'date':['min', 'max']}).reset_index()\n",
    "lifetime_2022.columns=['patient_id', 'first_visit', 'last_visit']\n",
    "lifetime_2022['lifetime'] = lifetime_2022['last_visit']-lifetime_2022['first_visit']\n",
    "print('Медианная продолжительность использования услуг клиники в 2022 г.:', lifetime_2022['lifetime'].median())"
   ]
  },
  {
   "cell_type": "code",
   "execution_count": 49,
   "id": "6480240d",
   "metadata": {},
   "outputs": [
    {
     "name": "stdout",
     "output_type": "stream",
     "text": [
      "Медианная стоимость лечения в 2021 г.: 10415.5\n",
      "Медианная стоимость лечения в 2022 г.: 9730.0\n"
     ]
    }
   ],
   "source": [
    "# стоимость\n",
    "treatment_cost_2021 = year_2021.groupby('patient_id').agg({'total_bill':'sum'}).reset_index()\n",
    "print('Медианная стоимость лечения в 2021 г.:', treatment_cost_2021['total_bill'].median())\n",
    "\n",
    "treatment_cost_2022 = year_2022.groupby('patient_id').agg({'total_bill':'sum'}).reset_index()\n",
    "print('Медианная стоимость лечения в 2022 г.:', treatment_cost_2022['total_bill'].median())"
   ]
  },
  {
   "cell_type": "markdown",
   "id": "c31d8d2c",
   "metadata": {},
   "source": [
    "Медианные показатели на пациента:\n",
    "- В 2021 г. длительность лечения составляла 16 дней, количество услуг - 10. Стоимость лечения: 10415 руб.\n",
    "- В 2022 г.  длительность лечения уменьшилась до 13 дней, а количество услуг - до 8. Стоимость лечения: 9730 руб."
   ]
  },
  {
   "cell_type": "markdown",
   "id": "a08b8739",
   "metadata": {},
   "source": [
    "Вывод: в 2022 г. в среднем пациенты лечатся быстрее и дешевле: медианный период лечения составляет 13 дней и стоит 9730 руб., при этом пациенты пользуются 8 услугами. В 2021 г. период лечения - 16 дней, стоимость - 10415 руб., а количество услуг - 10."
   ]
  },
  {
   "cell_type": "markdown",
   "id": "ff20b2bb",
   "metadata": {},
   "source": [
    "## Проверка гипотез"
   ]
  },
  {
   "cell_type": "markdown",
   "id": "b06bd869",
   "metadata": {},
   "source": [
    "Исходя из исследовательского анализа данных, мы можем выдвинуть гипотезы о причинах изменения цены лечения в 2022 г. относительно 2021 г. \n",
    "\n",
    "Гипотеза 1. Средняя стоимость лечения в 2022 г. не изменилась относительно 2021 г.   \n",
    "Гипотеза 2. Средняя стоимость лечения изменилась из-за изменения количества услуг на пациента.  \n",
    "Гипотеза 3. Средняя стоимость лечения изменилась из-за подорожания услуг.  \n"
   ]
  },
  {
   "cell_type": "code",
   "execution_count": 50,
   "id": "a0a30129",
   "metadata": {},
   "outputs": [],
   "source": [
    "# готовим датасет для проверки гипотез\n",
    "lifetime = df.groupby('patient_id').agg({'date':['min', 'max'], 'total_bill':'sum', 'service_name':'count'}).reset_index() #считаем первый и последний визит для каждого пациента\n",
    "lifetime.columns=['patient_id', 'first_visit', 'last_visit', 'treatment_cost', 'total_visits']\n",
    "lifetime['lifetime'] = lifetime['last_visit']-lifetime['first_visit'] #считаем лайфайм каждого пациента\n",
    "hyp = pd.merge(df, lifetime, left_on='patient_id', right_on='patient_id', how='outer') #добавляем даты первого и последнего визита, кол-во дней в датасет \n",
    "hyp['lifetime'] = hyp['lifetime']/ np.timedelta64(1, 'D') #приводим кол-во дней к типу float\n",
    "#выборки для теста\n",
    "patients_2021=hyp.query('year==2021').dropna()\n",
    "patients_2022=hyp.query('year==2022').dropna()"
   ]
  },
  {
   "cell_type": "markdown",
   "id": "856cc963",
   "metadata": {},
   "source": [
    "### Гипотеза 1"
   ]
  },
  {
   "cell_type": "markdown",
   "id": "f8c06c28",
   "metadata": {},
   "source": [
    "Средняя стоимость лечения в 2022 г. не изменилась относительно 2021 г.  \n",
    "Нулевая гипотеза: стоимость лечения не изменилась.  \n",
    "Альтернативная гипотеза: стоимость лечения в 2022 г. отличается от таковой в 2021 г."
   ]
  },
  {
   "cell_type": "markdown",
   "id": "5cddf97e",
   "metadata": {},
   "source": [
    "Мы проверяем отличие двух больших выборок (исследуем два генеральных средних), для этого используем Z-критерий.\n"
   ]
  },
  {
   "cell_type": "code",
   "execution_count": 51,
   "id": "06c8b30a",
   "metadata": {},
   "outputs": [
    {
     "name": "stdout",
     "output_type": "stream",
     "text": [
      "18.065331885404294 5.976150451175945e-73\n",
      "Отвергаем нулевую гипотезу\n"
     ]
    }
   ],
   "source": [
    "# задаем уровень статистической значимости\n",
    "alpha = 0.05 \n",
    "group1 = np.array(patients_2021['treatment_cost'])\n",
    "group2 = np.array(patients_2022['treatment_cost'])\n",
    "\n",
    "#проводим тест\n",
    "z_test_statistics, p_value = ztest(group1, group2, value= 0 ) \n",
    "print(z_test_statistics, p_value)\n",
    "alpha=0.05\n",
    "if p_value < alpha:\n",
    "        print('Отвергаем нулевую гипотезу')\n",
    "else:\n",
    "        print('Не получилось отвергнуть нулевую гипотезу')"
   ]
  },
  {
   "cell_type": "markdown",
   "id": "6c3ba97e",
   "metadata": {},
   "source": [
    "По результатам теста мы отвергаем нулевую гипотезу: стоимость лечения в 2022 г. изменилась относительно стоимости лечения в 2021 г."
   ]
  },
  {
   "cell_type": "markdown",
   "id": "3e06867c",
   "metadata": {},
   "source": [
    "### Гипотеза 2"
   ]
  },
  {
   "cell_type": "markdown",
   "id": "5a3bb377",
   "metadata": {},
   "source": [
    "Средняя стоимость лечения изменилась из-за изменения количества услуг на пациента.  \n",
    "Нулевая гипотеза: количество услуг на пациента не изменилось.  \n",
    "Альтернативная гипотеза: количество услуг на пациента в 2022 г. отличается от такового в 2021 г."
   ]
  },
  {
   "cell_type": "markdown",
   "id": "ac21dd6f",
   "metadata": {},
   "source": [
    "Для гипотезы 2 и 3 мы проверяем значительно ли отличаются два независимых образца. Для этого мы можем использовать тест Манна-Уитни (для не нормально распределенных выборок) или  t-критерий Стьюдента. Поскольку выборки большие, тест Манна-Уитни подходит маленьких (<30) выборок, воспользуемся t-критерием. Для t-testa генеральные совокупности не обязаны быть нормально распределены, т.к. благодаря ЦПТ, при достаточном размере выборки (больше нескольких десятков значений), выборочные средние будут распределены нормально."
   ]
  },
  {
   "cell_type": "code",
   "execution_count": 52,
   "id": "2a06fb32",
   "metadata": {},
   "outputs": [
    {
     "name": "stdout",
     "output_type": "stream",
     "text": [
      "p-значение: 5.33573565445364e-106\n",
      "Отвергаем нулевую гипотезу\n"
     ]
    }
   ],
   "source": [
    "# задаем уровень статистической значимости\n",
    "alpha = 0.05 \n",
    "days_2021 = np.array(patients_2021['total_visits'])\n",
    "days_2022 = np.array(patients_2022['total_visits'])\n",
    "# проводим тест\n",
    "results=st.ttest_ind(days_2021, days_2022)\n",
    "\n",
    "print('p-значение:', results.pvalue)\n",
    "\n",
    "if results.pvalue < alpha:\n",
    "    print('Отвергаем нулевую гипотезу')\n",
    "else:\n",
    "    print('Не получилось отвергнуть нулевую гипотезу') "
   ]
  },
  {
   "cell_type": "markdown",
   "id": "52e95bc0",
   "metadata": {},
   "source": [
    "По результатам теста мы отвергаем нулевую гипотезу: количество услуг на пациента в 2022 г. отличается от количества в 2021 г."
   ]
  },
  {
   "cell_type": "markdown",
   "id": "7d2d2310",
   "metadata": {},
   "source": [
    "### Гипотеза 3"
   ]
  },
  {
   "cell_type": "markdown",
   "id": "cc5bd372",
   "metadata": {},
   "source": [
    "Средняя стоимость лечения изменилась из-за подорожания услуг.  \n",
    "Нулевая гипотеза: средняя стоимость услуг в 2021 г. равна стоимости услуг в 2022 г.  \n",
    "Альтернативная гипотеза: стоимость услуг статистически различается.  "
   ]
  },
  {
   "cell_type": "code",
   "execution_count": 53,
   "id": "df96c0fb",
   "metadata": {
    "scrolled": true
   },
   "outputs": [
    {
     "name": "stdout",
     "output_type": "stream",
     "text": [
      "p-значение: 2.0048497282169697e-29\n",
      "Отвергаем нулевую гипотезу\n"
     ]
    }
   ],
   "source": [
    "# задаем уровень статистической значимости\n",
    "alpha = 0.05 \n",
    "prices_2021 = np.array(patients_2021['price'])\n",
    "prices_2022 = np.array(patients_2022['price'])\n",
    "# проводим тест\n",
    "results=st.ttest_ind(prices_2021, prices_2022)\n",
    "\n",
    "print('p-значение:', results.pvalue)\n",
    "\n",
    "if results.pvalue < alpha:\n",
    "    print('Отвергаем нулевую гипотезу')\n",
    "else:\n",
    "    print('Не получилось отвергнуть нулевую гипотезу') "
   ]
  },
  {
   "cell_type": "markdown",
   "id": "415f0e6b",
   "metadata": {},
   "source": [
    "По результатам теста мы отвергаем нулевую гипотезу: стоимость услуг в 2022 г. статистически отличается от стоимости услуг в 2022 г."
   ]
  },
  {
   "cell_type": "markdown",
   "id": "b1528095",
   "metadata": {},
   "source": [
    "## Выводы"
   ]
  },
  {
   "cell_type": "markdown",
   "id": "818a82ed",
   "metadata": {},
   "source": [
    "Мы провели исследование изменений показателей клиники за период с 3 января 2021 г. по 31 августа 2022 г. В 2021 г. в клинику обратилось 2514 человек, а в 2022 г. - 2757. Возрастно-половой состав пациентов по годам не изменился. Более половины пациентов клиники - женщины (56,8% в 2021г. и 57,8% в 2022 г.). Медианный возраст пациентов - 34 года, большая часть находятся в возрасте от 6 до 62 лет.  \n",
    "\n",
    "Чаще всего в клинику обращаются за приемом у врача, а также взятием и анализом крови. В 2021 г. пациентам было оказано 44371 услуг, а за неполный 2022 г. - 40977. В 2022 г. по сравнению с 2021 г. стали меньше обращаться за лабораторными исследованиями (с 27,% до 25,75%) и диагностикой и лечением (с 16,33% до 16,06%). Увеличилась доля приемов у врача (с 30,58% до 31,12%), медицинских манипуляций (с 5% до 5,7%), узи (с 4,46% до 4,98%), услуг рентгена и мрт (с 2,83% до 3,28%).\n",
    "\n",
    "Цены на услуги клиники повышались два раза: в октябре 2021 г. и в июле 2022 г. Медианная стоимость услуги составила 1092 р. в 2021 г. и 1190 р. в 2022 г. Уровень подорожания услуг разнится по категориям. Медианное увеличение на услуги в категориях \"лаборатория\", \"диагностика и лечение\", \"манипуляции\", \"узи\" составило от 4,4% до 4,9%, в категории \"массаж\" - на 3,6%, а на прием врачей - всего 1%.\n",
    "\n",
    "Выручка за неполный 2022 г. всего на 2.7% меньше, чем за 2021 г. За каждый отдельный месяц, кроме августа, выручка в 2022 г. стабильно выше аналогичного периода в 2021 г.\n",
    "\n",
    "В 2022 г.  медианный период лечения составляет 13 дней и стоит 9730 руб., при этом пациенты пользуются 8 услугами. В 2021 г. период лечения - 16 дней, стоимость - 10415 руб., а количество услуг - 10.\n",
    "\n",
    "Мы проверили гипотезы об изменении средней стоимости лечения по годам. По результатам теста мы выяснили, что:\n",
    "- Средняя стоимость лечения статистически различается. \n",
    "- Количество услуг на пациента в 2022 г. отличается от количества в 2021 г.\n",
    "- Стоимость услуг в 2022 г. статистически отличается от стоимости услуг в 2022 г.\n",
    "\n",
    "Таким образом, на стоимость лечения пациента в клинике влияет количество услуг на кейс, а также стоимость этих услуг."
   ]
  }
 ],
 "metadata": {
  "kernelspec": {
   "display_name": "Python 3 (ipykernel)",
   "language": "python",
   "name": "python3"
  },
  "language_info": {
   "codemirror_mode": {
    "name": "ipython",
    "version": 3
   },
   "file_extension": ".py",
   "mimetype": "text/x-python",
   "name": "python",
   "nbconvert_exporter": "python",
   "pygments_lexer": "ipython3",
   "version": "3.11.3"
  },
  "toc": {
   "base_numbering": 1,
   "nav_menu": {
    "height": "212px",
    "width": "342px"
   },
   "number_sections": true,
   "sideBar": true,
   "skip_h1_title": false,
   "title_cell": "Table of Contents",
   "title_sidebar": "Contents",
   "toc_cell": false,
   "toc_position": {
    "height": "calc(100% - 180px)",
    "left": "10px",
    "top": "150px",
    "width": "271.167px"
   },
   "toc_section_display": true,
   "toc_window_display": true
  }
 },
 "nbformat": 4,
 "nbformat_minor": 5
}
